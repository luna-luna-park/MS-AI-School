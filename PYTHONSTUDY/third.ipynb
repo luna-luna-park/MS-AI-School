{
 "cells": [
  {
   "cell_type": "code",
   "execution_count": 1,
   "id": "951e8b66",
   "metadata": {},
   "outputs": [
    {
     "name": "stdout",
     "output_type": "stream",
     "text": [
      "오답입니다\n"
     ]
    }
   ],
   "source": [
    "fruit = [\"사과\", \"포도\", \"홍시\"]\n",
    "user = input(\"좋아하는 과일은? \")\n",
    "if user in fruit:\n",
    "    print(\"정답입니다\")\n",
    "else:\n",
    "    print(\"오답입니다\")"
   ]
  },
  {
   "cell_type": "code",
   "execution_count": 2,
   "id": "89e94df3",
   "metadata": {},
   "outputs": [
    {
     "name": "stdout",
     "output_type": "stream",
     "text": [
      "Alice 평균: 89.0\n",
      "Bob 평균: 82.0\n",
      "Charlie 평균: 92.0\n",
      "\n",
      "전체 평균: 87.66666666666667\n",
      "\n",
      "90점 이상인 학생명단: ['Charlie']\n"
     ]
    }
   ],
   "source": [
    "# 학생별 성적 딕셔너리\n",
    "scores = {\n",
    "    \"Alice\": [90, 85, 92],\n",
    "    \"Bob\": [78, 80, 88],\n",
    "    \"Charlie\": [95, 92, 89]\n",
    "}\n",
    "\n",
    "student_averages = {}  # 학생별 평균 저장용\n",
    "high_achievers = []    # 90점 이상 학생\n",
    "\n",
    "# 각 학생 평균 출력\n",
    "for name, marks in scores.items():\n",
    "    avg = sum(marks) / len(marks)\n",
    "    student_averages[name] = avg\n",
    "    print(f\"{name} 평균: {avg}\")\n",
    "\n",
    "    if avg >= 90:\n",
    "        high_achievers.append(name)\n",
    "\n",
    "# 전체 평균 계산\n",
    "total_avg = sum(student_averages.values()) / len(student_averages)\n",
    "print(f\"\\n전체 평균: {total_avg}\")\n",
    "\n",
    "# 90점 이상 학생 출력\n",
    "print(f\"\\n90점 이상인 학생명단: {high_achievers}\")\n"
   ]
  },
  {
   "cell_type": "code",
   "execution_count": 3,
   "id": "2649e6cd",
   "metadata": {},
   "outputs": [],
   "source": [
    "def myAdd(a, b):\n",
    "    result = a + b\n",
    "    return result\n"
   ]
  },
  {
   "cell_type": "code",
   "execution_count": 4,
   "id": "15eee97a",
   "metadata": {},
   "outputs": [
    {
     "name": "stdout",
     "output_type": "stream",
     "text": [
      "7\n"
     ]
    }
   ],
   "source": [
    "c=  myAdd(3, 4)\n",
    "print (c)"
   ]
  },
  {
   "cell_type": "code",
   "execution_count": 5,
   "id": "e6db77e1",
   "metadata": {},
   "outputs": [],
   "source": [
    "def num_max(a, b, c):\n",
    "    chkab = a if a > b else b\n",
    "    return chkab if chkab > c else c"
   ]
  },
  {
   "cell_type": "code",
   "execution_count": 6,
   "id": "df3b0041",
   "metadata": {},
   "outputs": [
    {
     "data": {
      "text/plain": [
       "12"
      ]
     },
     "execution_count": 6,
     "metadata": {},
     "output_type": "execute_result"
    }
   ],
   "source": [
    "num = num_max(10, 12, 7)\n",
    "num\n"
   ]
  },
  {
   "cell_type": "code",
   "execution_count": 8,
   "id": "649eb4b6",
   "metadata": {},
   "outputs": [],
   "source": [
    "def add_many(*args):\n",
    "    return sum(args)"
   ]
  },
  {
   "cell_type": "code",
   "execution_count": 9,
   "id": "7d1a88f3",
   "metadata": {},
   "outputs": [
    {
     "name": "stdout",
     "output_type": "stream",
     "text": [
      "3\n"
     ]
    }
   ],
   "source": [
    "print(add_many(1, 2))\n"
   ]
  },
  {
   "cell_type": "code",
   "execution_count": null,
   "id": "31022f05",
   "metadata": {},
   "outputs": [],
   "source": [
    "def say_myself(name, age, man) :\n",
    "    print(name, age, man)"
   ]
  },
  {
   "cell_type": "code",
   "execution_count": 10,
   "id": "89cec3f7",
   "metadata": {},
   "outputs": [
    {
     "ename": "NameError",
     "evalue": "name 'say_myself' is not defined",
     "output_type": "error",
     "traceback": [
      "\u001b[31m---------------------------------------------------------------------------\u001b[39m",
      "\u001b[31mNameError\u001b[39m                                 Traceback (most recent call last)",
      "\u001b[36mCell\u001b[39m\u001b[36m \u001b[39m\u001b[32mIn[10]\u001b[39m\u001b[32m, line 1\u001b[39m\n\u001b[32m----> \u001b[39m\u001b[32m1\u001b[39m \u001b[43msay_myself\u001b[49m(\u001b[33m'\u001b[39m\u001b[33mchris\u001b[39m\u001b[33m'\u001b[39m, \u001b[32m29\u001b[39m)\n",
      "\u001b[31mNameError\u001b[39m: name 'say_myself' is not defined"
     ]
    }
   ],
   "source": [
    "say_myself('chris', 29)"
   ]
  },
  {
   "cell_type": "code",
   "execution_count": 12,
   "id": "43d7ba14",
   "metadata": {},
   "outputs": [
    {
     "name": "stdout",
     "output_type": "stream",
     "text": [
      "1\n"
     ]
    }
   ],
   "source": [
    "a = 1\n",
    "def vartest(a):\n",
    "    a = a +1\n",
    "vartest(3)\n",
    "print(a)"
   ]
  },
  {
   "cell_type": "code",
   "execution_count": null,
   "id": "46c4a8ab",
   "metadata": {},
   "outputs": [],
   "source": [
    "myList = [1,2,3,4,5]\n",
    "\n",
    "def add_one(n):\n",
    "    return n+1\n",
    "\n",
    "list(map(add_one,myList))\n"
   ]
  },
  {
   "cell_type": "code",
   "execution_count": null,
   "id": "8e027c5a",
   "metadata": {},
   "outputs": [],
   "source": [
    "def add_one(n):\n",
    "    return n+1"
   ]
  },
  {
   "cell_type": "code",
   "execution_count": null,
   "id": "2e3867ac",
   "metadata": {},
   "outputs": [],
   "source": [
    "lamda n: n+1"
   ]
  },
  {
   "cell_type": "code",
   "execution_count": 16,
   "id": "be41da90",
   "metadata": {},
   "outputs": [
    {
     "data": {
      "text/plain": [
       "[2, 3, 4, 5, 6]"
      ]
     },
     "execution_count": 16,
     "metadata": {},
     "output_type": "execute_result"
    }
   ],
   "source": [
    "myList = [1,2,3,4,5]\n",
    "\n",
    "def add_one(n):\n",
    "    return n+1\n",
    "\n",
    "list(map(lambda n: n+1,myList))"
   ]
  },
  {
   "cell_type": "code",
   "execution_count": 18,
   "id": "76a0e1b7",
   "metadata": {},
   "outputs": [
    {
     "name": "stdout",
     "output_type": "stream",
     "text": [
      "[1, 4, 9, 16]\n"
     ]
    }
   ],
   "source": [
    "numbers = [1,2,3,4]\n",
    "squared = list(map(lambda x: x**2, numbers))\n",
    "print(squared)"
   ]
  },
  {
   "cell_type": "code",
   "execution_count": 21,
   "id": "78475eab",
   "metadata": {},
   "outputs": [
    {
     "name": "stdout",
     "output_type": "stream",
     "text": [
      "[2, 4]\n"
     ]
    }
   ],
   "source": [
    "numbers=[1,2,3,4,5]\n",
    "even_numbers = list(filter(lambda x : x%2==0, numbers))\n",
    "print(even_numbers)"
   ]
  },
  {
   "cell_type": "code",
   "execution_count": 22,
   "id": "d15ddac0",
   "metadata": {},
   "outputs": [
    {
     "name": "stdout",
     "output_type": "stream",
     "text": [
      "[(5, 1), (1, 2), (3, 4)]\n"
     ]
    }
   ],
   "source": [
    "points = [(1,2),(3,4),(5,1)]\n",
    "#두번째 값을 기준으로 반환하는 함수\n",
    "def get_second(point):\n",
    "    return point[1]\n",
    "#정렬\n",
    "sorted_points = sorted(points, key = get_second)\n",
    "print(sorted_points)"
   ]
  },
  {
   "cell_type": "code",
   "execution_count": 23,
   "id": "a1cd022e",
   "metadata": {},
   "outputs": [
    {
     "name": "stdout",
     "output_type": "stream",
     "text": [
      "[(5, 1), (1, 2), (3, 4)]\n"
     ]
    }
   ],
   "source": [
    "points = [(1,2),(3,4),(5,1)]\n",
    "sorted_points = sorted(points, key=lambda point: point[1])\n",
    "\n",
    "print(sorted_points)"
   ]
  },
  {
   "cell_type": "code",
   "execution_count": 24,
   "id": "bf6059f9",
   "metadata": {},
   "outputs": [
    {
     "ename": "AttributeError",
     "evalue": "module 'random' has no attribute 'result'",
     "output_type": "error",
     "traceback": [
      "\u001b[31m---------------------------------------------------------------------------\u001b[39m",
      "\u001b[31mAttributeError\u001b[39m                            Traceback (most recent call last)",
      "\u001b[36mCell\u001b[39m\u001b[36m \u001b[39m\u001b[32mIn[24]\u001b[39m\u001b[32m, line 3\u001b[39m\n\u001b[32m      1\u001b[39m \u001b[38;5;28;01mimport\u001b[39;00m\u001b[38;5;250m \u001b[39m\u001b[34;01mrandom\u001b[39;00m \n\u001b[32m      2\u001b[39m \u001b[38;5;28;01mfor\u001b[39;00m i \u001b[38;5;129;01min\u001b[39;00m \u001b[38;5;28mrange\u001b[39m(\u001b[32m6\u001b[39m):\n\u001b[32m----> \u001b[39m\u001b[32m3\u001b[39m     \u001b[38;5;28mprint\u001b[39m(\u001b[43mrandom\u001b[49m\u001b[43m.\u001b[49m\u001b[43mresult\u001b[49m())\n",
      "\u001b[31mAttributeError\u001b[39m: module 'random' has no attribute 'result'"
     ]
    }
   ],
   "source": [
    "import random \n",
    "for i in range(6):\n",
    "    print(random.result())"
   ]
  },
  {
   "cell_type": "code",
   "execution_count": 26,
   "id": "77aef747",
   "metadata": {},
   "outputs": [
    {
     "name": "stdout",
     "output_type": "stream",
     "text": [
      "40\n",
      "40\n",
      "33\n",
      "31\n",
      "38\n",
      "22\n"
     ]
    }
   ],
   "source": [
    "import random \n",
    "for i in range(6):\n",
    "    result = random.randint(1,45)\n",
    "    print(result)"
   ]
  },
  {
   "cell_type": "code",
   "execution_count": null,
   "id": "059f4ca2",
   "metadata": {},
   "outputs": [],
   "source": [
    "import random \n",
    "sel = ['가위','바위','보']\n",
    "\n",
    "def checkWin(user, com):\n",
    "    if usedr == com:\n",
    "        print(\"무승부\")\n",
    "        return False\n"
   ]
  }
 ],
 "metadata": {
  "kernelspec": {
   "display_name": "Python 3",
   "language": "python",
   "name": "python3"
  },
  "language_info": {
   "codemirror_mode": {
    "name": "ipython",
    "version": 3
   },
   "file_extension": ".py",
   "mimetype": "text/x-python",
   "name": "python",
   "nbconvert_exporter": "python",
   "pygments_lexer": "ipython3",
   "version": "3.11.4"
  }
 },
 "nbformat": 4,
 "nbformat_minor": 5
}
