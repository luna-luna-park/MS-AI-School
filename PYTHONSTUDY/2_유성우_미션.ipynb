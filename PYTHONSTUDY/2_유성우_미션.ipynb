{
 "cells": [
  {
   "cell_type": "markdown",
   "metadata": {},
   "source": [
    "# 데이터 가공"
   ]
  },
  {
   "cell_type": "markdown",
   "metadata": {},
   "source": [
    "## 패키지 임포트"
   ]
  },
  {
   "cell_type": "code",
   "execution_count": null,
   "metadata": {},
   "outputs": [],
   "source": [
    "#넘파이와 판다스 라이브러리 가져오기\n",
    "import numpy as np\n",
    "import pandas as pd"
   ]
  },
  {
   "cell_type": "code",
   "execution_count": 210,
   "metadata": {},
   "outputs": [],
   "source": [
    "# 데이터셋 불러오기\n",
    "meteor_showers = pd.read_csv('C:\\AI_School\\PYTHONSTUDY\\data\\meteorshowers.csv')\n",
    "moon_phases = pd.read_csv('C:\\AI_School\\PYTHONSTUDY\\data\\moonphases.csv')\n",
    "constellations = pd.read_csv('data/constellations.csv')\n",
    "cities = pd.read_csv('C:\\AI_School\\PYTHONSTUDY\\data\\cities.csv')"
   ]
  },
  {
   "cell_type": "code",
   "execution_count": 284,
   "metadata": {},
   "outputs": [],
   "source": [
    "moon_phases = pd.read_csv('C:\\AI_School\\PYTHONSTUDY\\data\\moonphases.csv')"
   ]
  },
  {
   "cell_type": "code",
   "execution_count": 285,
   "metadata": {},
   "outputs": [
    {
     "data": {
      "text/html": [
       "<div>\n",
       "<style scoped>\n",
       "    .dataframe tbody tr th:only-of-type {\n",
       "        vertical-align: middle;\n",
       "    }\n",
       "\n",
       "    .dataframe tbody tr th {\n",
       "        vertical-align: top;\n",
       "    }\n",
       "\n",
       "    .dataframe thead th {\n",
       "        text-align: right;\n",
       "    }\n",
       "</style>\n",
       "<table border=\"1\" class=\"dataframe\">\n",
       "  <thead>\n",
       "    <tr style=\"text-align: right;\">\n",
       "      <th></th>\n",
       "      <th>name</th>\n",
       "      <th>radiant</th>\n",
       "      <th>bestmonth</th>\n",
       "      <th>preferredhemisphere</th>\n",
       "      <th>enddate</th>\n",
       "      <th>startdate</th>\n",
       "    </tr>\n",
       "  </thead>\n",
       "  <tbody>\n",
       "    <tr>\n",
       "      <th>0</th>\n",
       "      <td>Lyrids</td>\n",
       "      <td>Lyra</td>\n",
       "      <td>4</td>\n",
       "      <td>northern</td>\n",
       "      <td>2020-04-22</td>\n",
       "      <td>2020-04-21</td>\n",
       "    </tr>\n",
       "    <tr>\n",
       "      <th>1</th>\n",
       "      <td>Eta Aquarids</td>\n",
       "      <td>Aquarius</td>\n",
       "      <td>5</td>\n",
       "      <td>southern</td>\n",
       "      <td>2020-05-28</td>\n",
       "      <td>2020-04-19</td>\n",
       "    </tr>\n",
       "    <tr>\n",
       "      <th>2</th>\n",
       "      <td>Orionids</td>\n",
       "      <td>Orion</td>\n",
       "      <td>10</td>\n",
       "      <td>northern, southern</td>\n",
       "      <td>2020-11-07</td>\n",
       "      <td>2020-10-02</td>\n",
       "    </tr>\n",
       "    <tr>\n",
       "      <th>3</th>\n",
       "      <td>Perseids</td>\n",
       "      <td>Perseus</td>\n",
       "      <td>8</td>\n",
       "      <td>northern</td>\n",
       "      <td>2020-08-24</td>\n",
       "      <td>2020-07-14</td>\n",
       "    </tr>\n",
       "    <tr>\n",
       "      <th>4</th>\n",
       "      <td>Leonids</td>\n",
       "      <td>Leo</td>\n",
       "      <td>11</td>\n",
       "      <td>northern, southern</td>\n",
       "      <td>2020-11-30</td>\n",
       "      <td>2020-11-06</td>\n",
       "    </tr>\n",
       "  </tbody>\n",
       "</table>\n",
       "</div>"
      ],
      "text/plain": [
       "           name   radiant  bestmonth preferredhemisphere    enddate  startdate\n",
       "0        Lyrids      Lyra          4            northern 2020-04-22 2020-04-21\n",
       "1  Eta Aquarids  Aquarius          5            southern 2020-05-28 2020-04-19\n",
       "2      Orionids     Orion         10  northern, southern 2020-11-07 2020-10-02\n",
       "3      Perseids   Perseus          8            northern 2020-08-24 2020-07-14\n",
       "4       Leonids       Leo         11  northern, southern 2020-11-30 2020-11-06"
      ]
     },
     "execution_count": 285,
     "metadata": {},
     "output_type": "execute_result"
    }
   ],
   "source": [
    "# 유성우 데이터 확인하기\n",
    "meteor_showers.head()"
   ]
  },
  {
   "cell_type": "markdown",
   "metadata": {},
   "source": [
    "## 컬럼 dtype 변경(월 이름)"
   ]
  },
  {
   "cell_type": "code",
   "execution_count": 220,
   "metadata": {},
   "outputs": [
    {
     "data": {
      "text/html": [
       "<div>\n",
       "<style scoped>\n",
       "    .dataframe tbody tr th:only-of-type {\n",
       "        vertical-align: middle;\n",
       "    }\n",
       "\n",
       "    .dataframe tbody tr th {\n",
       "        vertical-align: top;\n",
       "    }\n",
       "\n",
       "    .dataframe thead th {\n",
       "        text-align: right;\n",
       "    }\n",
       "</style>\n",
       "<table border=\"1\" class=\"dataframe\">\n",
       "  <thead>\n",
       "    <tr style=\"text-align: right;\">\n",
       "      <th></th>\n",
       "      <th>name</th>\n",
       "      <th>radiant</th>\n",
       "      <th>bestmonth</th>\n",
       "      <th>startmonth</th>\n",
       "      <th>startday</th>\n",
       "      <th>endmonth</th>\n",
       "      <th>endday</th>\n",
       "      <th>hemisphere</th>\n",
       "      <th>preferredhemisphere</th>\n",
       "    </tr>\n",
       "  </thead>\n",
       "  <tbody>\n",
       "    <tr>\n",
       "      <th>0</th>\n",
       "      <td>Lyrids</td>\n",
       "      <td>Lyra</td>\n",
       "      <td>april</td>\n",
       "      <td>april</td>\n",
       "      <td>21</td>\n",
       "      <td>april</td>\n",
       "      <td>22</td>\n",
       "      <td>northern</td>\n",
       "      <td>northern</td>\n",
       "    </tr>\n",
       "    <tr>\n",
       "      <th>1</th>\n",
       "      <td>Eta Aquarids</td>\n",
       "      <td>Aquarius</td>\n",
       "      <td>may</td>\n",
       "      <td>april</td>\n",
       "      <td>19</td>\n",
       "      <td>may</td>\n",
       "      <td>28</td>\n",
       "      <td>northern, southern</td>\n",
       "      <td>southern</td>\n",
       "    </tr>\n",
       "    <tr>\n",
       "      <th>2</th>\n",
       "      <td>Orionids</td>\n",
       "      <td>Orion</td>\n",
       "      <td>october</td>\n",
       "      <td>october</td>\n",
       "      <td>2</td>\n",
       "      <td>november</td>\n",
       "      <td>7</td>\n",
       "      <td>northern, southern</td>\n",
       "      <td>northern, southern</td>\n",
       "    </tr>\n",
       "    <tr>\n",
       "      <th>3</th>\n",
       "      <td>Perseids</td>\n",
       "      <td>Perseus</td>\n",
       "      <td>august</td>\n",
       "      <td>july</td>\n",
       "      <td>14</td>\n",
       "      <td>august</td>\n",
       "      <td>24</td>\n",
       "      <td>northern</td>\n",
       "      <td>northern</td>\n",
       "    </tr>\n",
       "    <tr>\n",
       "      <th>4</th>\n",
       "      <td>Leonids</td>\n",
       "      <td>Leo</td>\n",
       "      <td>november</td>\n",
       "      <td>november</td>\n",
       "      <td>6</td>\n",
       "      <td>november</td>\n",
       "      <td>30</td>\n",
       "      <td>northern, southern</td>\n",
       "      <td>northern, southern</td>\n",
       "    </tr>\n",
       "  </tbody>\n",
       "</table>\n",
       "</div>"
      ],
      "text/plain": [
       "           name   radiant bestmonth startmonth  startday  endmonth  endday  \\\n",
       "0        Lyrids      Lyra     april      april        21     april      22   \n",
       "1  Eta Aquarids  Aquarius       may      april        19       may      28   \n",
       "2      Orionids     Orion   october    october         2  november       7   \n",
       "3      Perseids   Perseus    august       july        14    august      24   \n",
       "4       Leonids       Leo  november   november         6  november      30   \n",
       "\n",
       "           hemisphere preferredhemisphere  \n",
       "0            northern            northern  \n",
       "1  northern, southern            southern  \n",
       "2  northern, southern  northern, southern  \n",
       "3            northern            northern  \n",
       "4  northern, southern  northern, southern  "
      ]
     },
     "execution_count": 220,
     "metadata": {},
     "output_type": "execute_result"
    }
   ],
   "source": [
    "# 유성우 월 이름 변경\n",
    "meteor_showers.head()"
   ]
  },
  {
   "cell_type": "code",
   "execution_count": 271,
   "metadata": {},
   "outputs": [],
   "source": [
    "# 월명을 숫자로 변환하기 위한 딕셔너리 생성 months\n",
    "months = {\n",
    "    \"january\": 1, \"february\": 2, \"march\": 3, \"april\": 4,\n",
    "    \"may\": 5, \"june\": 6, \"july\": 7, \"august\": 8,\n",
    "    \"september\": 9, \"october\": 10, \"november\": 11, \"december\": 12\n",
    "}"
   ]
  },
  {
   "cell_type": "code",
   "execution_count": 272,
   "metadata": {},
   "outputs": [
    {
     "data": {
      "text/plain": [
       "{'january': 1,\n",
       " 'february': 2,\n",
       " 'march': 3,\n",
       " 'april': 4,\n",
       " 'may': 5,\n",
       " 'june': 6,\n",
       " 'july': 7,\n",
       " 'august': 8,\n",
       " 'september': 9,\n",
       " 'october': 10,\n",
       " 'november': 11,\n",
       " 'december': 12}"
      ]
     },
     "execution_count": 272,
     "metadata": {},
     "output_type": "execute_result"
    }
   ],
   "source": [
    "months"
   ]
  },
  {
   "cell_type": "code",
   "execution_count": null,
   "metadata": {},
   "outputs": [
    {
     "data": {
      "text/plain": [
       "0     4\n",
       "1     5\n",
       "2    10\n",
       "3     8\n",
       "4    11\n",
       "Name: bestmonth, dtype: int64"
      ]
     },
     "execution_count": 223,
     "metadata": {},
     "output_type": "execute_result"
    }
   ],
   "source": [
    "#meteor_showers['bestmonth'].map(어떤식으로 매핑할것인지에 대한 함수또는 메소드 작성)\n",
    "meteor_showers['bestmonth'].map(months) "
   ]
  },
  {
   "cell_type": "code",
   "execution_count": 226,
   "metadata": {},
   "outputs": [
    {
     "data": {
      "text/html": [
       "<div>\n",
       "<style scoped>\n",
       "    .dataframe tbody tr th:only-of-type {\n",
       "        vertical-align: middle;\n",
       "    }\n",
       "\n",
       "    .dataframe tbody tr th {\n",
       "        vertical-align: top;\n",
       "    }\n",
       "\n",
       "    .dataframe thead th {\n",
       "        text-align: right;\n",
       "    }\n",
       "</style>\n",
       "<table border=\"1\" class=\"dataframe\">\n",
       "  <thead>\n",
       "    <tr style=\"text-align: right;\">\n",
       "      <th></th>\n",
       "      <th>name</th>\n",
       "      <th>radiant</th>\n",
       "      <th>bestmonth</th>\n",
       "      <th>startmonth</th>\n",
       "      <th>startday</th>\n",
       "      <th>endmonth</th>\n",
       "      <th>endday</th>\n",
       "      <th>hemisphere</th>\n",
       "      <th>preferredhemisphere</th>\n",
       "    </tr>\n",
       "  </thead>\n",
       "  <tbody>\n",
       "    <tr>\n",
       "      <th>0</th>\n",
       "      <td>Lyrids</td>\n",
       "      <td>Lyra</td>\n",
       "      <td>4</td>\n",
       "      <td>4</td>\n",
       "      <td>21</td>\n",
       "      <td>4</td>\n",
       "      <td>22</td>\n",
       "      <td>northern</td>\n",
       "      <td>northern</td>\n",
       "    </tr>\n",
       "    <tr>\n",
       "      <th>1</th>\n",
       "      <td>Eta Aquarids</td>\n",
       "      <td>Aquarius</td>\n",
       "      <td>5</td>\n",
       "      <td>4</td>\n",
       "      <td>19</td>\n",
       "      <td>5</td>\n",
       "      <td>28</td>\n",
       "      <td>northern, southern</td>\n",
       "      <td>southern</td>\n",
       "    </tr>\n",
       "    <tr>\n",
       "      <th>2</th>\n",
       "      <td>Orionids</td>\n",
       "      <td>Orion</td>\n",
       "      <td>10</td>\n",
       "      <td>10</td>\n",
       "      <td>2</td>\n",
       "      <td>11</td>\n",
       "      <td>7</td>\n",
       "      <td>northern, southern</td>\n",
       "      <td>northern, southern</td>\n",
       "    </tr>\n",
       "    <tr>\n",
       "      <th>3</th>\n",
       "      <td>Perseids</td>\n",
       "      <td>Perseus</td>\n",
       "      <td>8</td>\n",
       "      <td>7</td>\n",
       "      <td>14</td>\n",
       "      <td>8</td>\n",
       "      <td>24</td>\n",
       "      <td>northern</td>\n",
       "      <td>northern</td>\n",
       "    </tr>\n",
       "    <tr>\n",
       "      <th>4</th>\n",
       "      <td>Leonids</td>\n",
       "      <td>Leo</td>\n",
       "      <td>11</td>\n",
       "      <td>11</td>\n",
       "      <td>6</td>\n",
       "      <td>11</td>\n",
       "      <td>30</td>\n",
       "      <td>northern, southern</td>\n",
       "      <td>northern, southern</td>\n",
       "    </tr>\n",
       "  </tbody>\n",
       "</table>\n",
       "</div>"
      ],
      "text/plain": [
       "           name   radiant  bestmonth  startmonth  startday  endmonth  endday  \\\n",
       "0        Lyrids      Lyra          4           4        21         4      22   \n",
       "1  Eta Aquarids  Aquarius          5           4        19         5      28   \n",
       "2      Orionids     Orion         10          10         2        11       7   \n",
       "3      Perseids   Perseus          8           7        14         8      24   \n",
       "4       Leonids       Leo         11          11         6        11      30   \n",
       "\n",
       "           hemisphere preferredhemisphere  \n",
       "0            northern            northern  \n",
       "1  northern, southern            southern  \n",
       "2  northern, southern  northern, southern  \n",
       "3            northern            northern  \n",
       "4  northern, southern  northern, southern  "
      ]
     },
     "execution_count": 226,
     "metadata": {},
     "output_type": "execute_result"
    }
   ],
   "source": [
    "# 유성우데이터프레임의 월명을 숫자로 변환 map 메소드 사용(기존 apply사용도 가능)\n",
    "# 각각의 besthmont, startmonth, endmonth를 숫자로 변환환다.\n",
    "\n",
    "#meteor_showers['bestmonth'] = meteor_showers['bestmonth'].map(months)\n",
    "#meteor_showers['startmonth'] = meteor_showers['startmonth'].map(months)\n",
    "meteor_showers['endmonth'] = meteor_showers['endmonth'].map(months)\n",
    "\n",
    "\n",
    "meteor_showers\n"
   ]
  },
  {
   "cell_type": "code",
   "execution_count": null,
   "metadata": {},
   "outputs": [],
   "source": [
    "#한줄씩 실행하면 되는데 전체 실행하면 NaN으로 됨 → NaN으로 바뀌지않도록 해야함 : apply메소드사용해서 예외처리를해야함\n",
    "\n",
    "def monthtonum(month):\n",
    "    if isinstance(month, int) or pd.isna(month):\n",
    "        return month\n",
    "    return months.get(month, month)\n",
    "\n",
    "meteor_showers['bestmonth'] = meteor_showers['bestmonth'].apply(monthtonum)"
   ]
  },
  {
   "cell_type": "code",
   "execution_count": 227,
   "metadata": {},
   "outputs": [
    {
     "name": "stdout",
     "output_type": "stream",
     "text": [
      "<class 'pandas.core.frame.DataFrame'>\n",
      "RangeIndex: 5 entries, 0 to 4\n",
      "Data columns (total 9 columns):\n",
      " #   Column               Non-Null Count  Dtype \n",
      "---  ------               --------------  ----- \n",
      " 0   name                 5 non-null      object\n",
      " 1   radiant              5 non-null      object\n",
      " 2   bestmonth            5 non-null      int64 \n",
      " 3   startmonth           5 non-null      int64 \n",
      " 4   startday             5 non-null      int64 \n",
      " 5   endmonth             5 non-null      int64 \n",
      " 6   endday               5 non-null      int64 \n",
      " 7   hemisphere           5 non-null      object\n",
      " 8   preferredhemisphere  5 non-null      object\n",
      "dtypes: int64(5), object(4)\n",
      "memory usage: 492.0+ bytes\n"
     ]
    }
   ],
   "source": [
    "# 유성우 월명이 숫자로 변경되었는지 정보 확인\n",
    "meteor_showers.info()"
   ]
  },
  {
   "cell_type": "code",
   "execution_count": 228,
   "metadata": {},
   "outputs": [],
   "source": [
    "# 다른 데이터프레임(달의위상, 별자리)도 월명을 숫자로 변환"
   ]
  },
  {
   "cell_type": "code",
   "execution_count": 288,
   "metadata": {},
   "outputs": [],
   "source": [
    "moon_phases['month'] = moon_phases['month'].map(months)"
   ]
  },
  {
   "cell_type": "code",
   "execution_count": 274,
   "metadata": {},
   "outputs": [
    {
     "data": {
      "text/html": [
       "<div>\n",
       "<style scoped>\n",
       "    .dataframe tbody tr th:only-of-type {\n",
       "        vertical-align: middle;\n",
       "    }\n",
       "\n",
       "    .dataframe tbody tr th {\n",
       "        vertical-align: top;\n",
       "    }\n",
       "\n",
       "    .dataframe thead th {\n",
       "        text-align: right;\n",
       "    }\n",
       "</style>\n",
       "<table border=\"1\" class=\"dataframe\">\n",
       "  <thead>\n",
       "    <tr style=\"text-align: right;\">\n",
       "      <th></th>\n",
       "      <th>month</th>\n",
       "      <th>day</th>\n",
       "      <th>moonphase</th>\n",
       "      <th>specialevent</th>\n",
       "    </tr>\n",
       "  </thead>\n",
       "  <tbody>\n",
       "    <tr>\n",
       "      <th>0</th>\n",
       "      <td>1</td>\n",
       "      <td>1</td>\n",
       "      <td>NaN</td>\n",
       "      <td>NaN</td>\n",
       "    </tr>\n",
       "    <tr>\n",
       "      <th>1</th>\n",
       "      <td>1</td>\n",
       "      <td>2</td>\n",
       "      <td>first quarter</td>\n",
       "      <td>NaN</td>\n",
       "    </tr>\n",
       "    <tr>\n",
       "      <th>2</th>\n",
       "      <td>1</td>\n",
       "      <td>3</td>\n",
       "      <td>NaN</td>\n",
       "      <td>NaN</td>\n",
       "    </tr>\n",
       "    <tr>\n",
       "      <th>3</th>\n",
       "      <td>1</td>\n",
       "      <td>4</td>\n",
       "      <td>NaN</td>\n",
       "      <td>NaN</td>\n",
       "    </tr>\n",
       "    <tr>\n",
       "      <th>4</th>\n",
       "      <td>1</td>\n",
       "      <td>5</td>\n",
       "      <td>NaN</td>\n",
       "      <td>NaN</td>\n",
       "    </tr>\n",
       "    <tr>\n",
       "      <th>...</th>\n",
       "      <td>...</td>\n",
       "      <td>...</td>\n",
       "      <td>...</td>\n",
       "      <td>...</td>\n",
       "    </tr>\n",
       "    <tr>\n",
       "      <th>361</th>\n",
       "      <td>12</td>\n",
       "      <td>27</td>\n",
       "      <td>NaN</td>\n",
       "      <td>NaN</td>\n",
       "    </tr>\n",
       "    <tr>\n",
       "      <th>362</th>\n",
       "      <td>12</td>\n",
       "      <td>28</td>\n",
       "      <td>NaN</td>\n",
       "      <td>NaN</td>\n",
       "    </tr>\n",
       "    <tr>\n",
       "      <th>363</th>\n",
       "      <td>12</td>\n",
       "      <td>29</td>\n",
       "      <td>full moon</td>\n",
       "      <td>NaN</td>\n",
       "    </tr>\n",
       "    <tr>\n",
       "      <th>364</th>\n",
       "      <td>12</td>\n",
       "      <td>30</td>\n",
       "      <td>NaN</td>\n",
       "      <td>NaN</td>\n",
       "    </tr>\n",
       "    <tr>\n",
       "      <th>365</th>\n",
       "      <td>12</td>\n",
       "      <td>31</td>\n",
       "      <td>NaN</td>\n",
       "      <td>NaN</td>\n",
       "    </tr>\n",
       "  </tbody>\n",
       "</table>\n",
       "<p>366 rows × 4 columns</p>\n",
       "</div>"
      ],
      "text/plain": [
       "     month  day      moonphase specialevent\n",
       "0        1    1            NaN          NaN\n",
       "1        1    2  first quarter          NaN\n",
       "2        1    3            NaN          NaN\n",
       "3        1    4            NaN          NaN\n",
       "4        1    5            NaN          NaN\n",
       "..     ...  ...            ...          ...\n",
       "361     12   27            NaN          NaN\n",
       "362     12   28            NaN          NaN\n",
       "363     12   29      full moon          NaN\n",
       "364     12   30            NaN          NaN\n",
       "365     12   31            NaN          NaN\n",
       "\n",
       "[366 rows x 4 columns]"
      ]
     },
     "execution_count": 274,
     "metadata": {},
     "output_type": "execute_result"
    }
   ],
   "source": [
    "# 달의위상\n",
    "moon_phases"
   ]
  },
  {
   "cell_type": "code",
   "execution_count": 233,
   "metadata": {},
   "outputs": [],
   "source": [
    "constellations['bestmonth'] = constellations['bestmonth'].map(months)"
   ]
  },
  {
   "cell_type": "code",
   "execution_count": 235,
   "metadata": {},
   "outputs": [
    {
     "data": {
      "text/html": [
       "<div>\n",
       "<style scoped>\n",
       "    .dataframe tbody tr th:only-of-type {\n",
       "        vertical-align: middle;\n",
       "    }\n",
       "\n",
       "    .dataframe tbody tr th {\n",
       "        vertical-align: top;\n",
       "    }\n",
       "\n",
       "    .dataframe thead th {\n",
       "        text-align: right;\n",
       "    }\n",
       "</style>\n",
       "<table border=\"1\" class=\"dataframe\">\n",
       "  <thead>\n",
       "    <tr style=\"text-align: right;\">\n",
       "      <th></th>\n",
       "      <th>constellation</th>\n",
       "      <th>bestmonth</th>\n",
       "      <th>latitudestart</th>\n",
       "      <th>latitudeend</th>\n",
       "      <th>besttime</th>\n",
       "      <th>hemisphere</th>\n",
       "    </tr>\n",
       "  </thead>\n",
       "  <tbody>\n",
       "    <tr>\n",
       "      <th>0</th>\n",
       "      <td>Lyra</td>\n",
       "      <td>8</td>\n",
       "      <td>90</td>\n",
       "      <td>-40</td>\n",
       "      <td>21:00</td>\n",
       "      <td>northern</td>\n",
       "    </tr>\n",
       "    <tr>\n",
       "      <th>1</th>\n",
       "      <td>Aquarius</td>\n",
       "      <td>10</td>\n",
       "      <td>65</td>\n",
       "      <td>-90</td>\n",
       "      <td>21:00</td>\n",
       "      <td>southern</td>\n",
       "    </tr>\n",
       "    <tr>\n",
       "      <th>2</th>\n",
       "      <td>Orion</td>\n",
       "      <td>1</td>\n",
       "      <td>85</td>\n",
       "      <td>-75</td>\n",
       "      <td>21:00</td>\n",
       "      <td>northern</td>\n",
       "    </tr>\n",
       "    <tr>\n",
       "      <th>3</th>\n",
       "      <td>Perseus</td>\n",
       "      <td>12</td>\n",
       "      <td>90</td>\n",
       "      <td>-35</td>\n",
       "      <td>21:00</td>\n",
       "      <td>northern</td>\n",
       "    </tr>\n",
       "    <tr>\n",
       "      <th>4</th>\n",
       "      <td>Leo</td>\n",
       "      <td>4</td>\n",
       "      <td>90</td>\n",
       "      <td>65</td>\n",
       "      <td>21:00</td>\n",
       "      <td>northern</td>\n",
       "    </tr>\n",
       "  </tbody>\n",
       "</table>\n",
       "</div>"
      ],
      "text/plain": [
       "  constellation  bestmonth  latitudestart  latitudeend besttime hemisphere\n",
       "0          Lyra          8             90          -40    21:00   northern\n",
       "1      Aquarius         10             65          -90    21:00   southern\n",
       "2         Orion          1             85          -75    21:00   northern\n",
       "3       Perseus         12             90          -35    21:00   northern\n",
       "4           Leo          4             90           65    21:00   northern"
      ]
     },
     "execution_count": 235,
     "metadata": {},
     "output_type": "execute_result"
    }
   ],
   "source": [
    "# 별자리\n",
    "constellations"
   ]
  },
  {
   "cell_type": "markdown",
   "metadata": {},
   "source": [
    "## 일자 정보 Datetime으로 변환(startdate 컬럼 생성)"
   ]
  },
  {
   "cell_type": "code",
   "execution_count": 236,
   "metadata": {},
   "outputs": [
    {
     "data": {
      "text/plain": [
       "20200421"
      ]
     },
     "execution_count": 236,
     "metadata": {},
     "output_type": "execute_result"
    }
   ],
   "source": [
    "# 4, 21 → 0421 → 20200421\n",
    "2020 * 10000 + 4 * 100+ 21"
   ]
  },
  {
   "cell_type": "code",
   "execution_count": 237,
   "metadata": {},
   "outputs": [
    {
     "data": {
      "text/plain": [
       "0    20200421\n",
       "1    20200419\n",
       "2    20201002\n",
       "3    20200714\n",
       "4    20201106\n",
       "dtype: int64"
      ]
     },
     "execution_count": 237,
     "metadata": {},
     "output_type": "execute_result"
    }
   ],
   "source": [
    "2020 * 10000 + meteor_showers['startmonth']*100 + meteor_showers['startday']"
   ]
  },
  {
   "cell_type": "code",
   "execution_count": 238,
   "metadata": {},
   "outputs": [
    {
     "data": {
      "text/plain": [
       "0   2020-04-21\n",
       "1   2020-04-19\n",
       "2   2020-10-02\n",
       "3   2020-07-14\n",
       "4   2020-11-06\n",
       "dtype: datetime64[ns]"
      ]
     },
     "execution_count": 238,
     "metadata": {},
     "output_type": "execute_result"
    }
   ],
   "source": [
    "# 유성우 데이터프레임의 새로운 컬럼에 일자 정보를 datatime(20240428)으로 변환하여 저장, startdate, enddate\n",
    "# startdate 컬럼 추가\n",
    "\n",
    "pd.to_datetime(2020 * 10000 + meteor_showers['startmonth']*100 + meteor_showers['startday'],format='%Y%m%d')\n"
   ]
  },
  {
   "cell_type": "code",
   "execution_count": 240,
   "metadata": {},
   "outputs": [
    {
     "data": {
      "text/html": [
       "<div>\n",
       "<style scoped>\n",
       "    .dataframe tbody tr th:only-of-type {\n",
       "        vertical-align: middle;\n",
       "    }\n",
       "\n",
       "    .dataframe tbody tr th {\n",
       "        vertical-align: top;\n",
       "    }\n",
       "\n",
       "    .dataframe thead th {\n",
       "        text-align: right;\n",
       "    }\n",
       "</style>\n",
       "<table border=\"1\" class=\"dataframe\">\n",
       "  <thead>\n",
       "    <tr style=\"text-align: right;\">\n",
       "      <th></th>\n",
       "      <th>name</th>\n",
       "      <th>radiant</th>\n",
       "      <th>bestmonth</th>\n",
       "      <th>startmonth</th>\n",
       "      <th>startday</th>\n",
       "      <th>endmonth</th>\n",
       "      <th>endday</th>\n",
       "      <th>hemisphere</th>\n",
       "      <th>preferredhemisphere</th>\n",
       "      <th>enddate</th>\n",
       "      <th>startdate</th>\n",
       "    </tr>\n",
       "  </thead>\n",
       "  <tbody>\n",
       "    <tr>\n",
       "      <th>0</th>\n",
       "      <td>Lyrids</td>\n",
       "      <td>Lyra</td>\n",
       "      <td>4</td>\n",
       "      <td>4</td>\n",
       "      <td>21</td>\n",
       "      <td>4</td>\n",
       "      <td>22</td>\n",
       "      <td>northern</td>\n",
       "      <td>northern</td>\n",
       "      <td>2020-04-22</td>\n",
       "      <td>2020-04-21</td>\n",
       "    </tr>\n",
       "    <tr>\n",
       "      <th>1</th>\n",
       "      <td>Eta Aquarids</td>\n",
       "      <td>Aquarius</td>\n",
       "      <td>5</td>\n",
       "      <td>4</td>\n",
       "      <td>19</td>\n",
       "      <td>5</td>\n",
       "      <td>28</td>\n",
       "      <td>northern, southern</td>\n",
       "      <td>southern</td>\n",
       "      <td>2020-05-28</td>\n",
       "      <td>2020-04-19</td>\n",
       "    </tr>\n",
       "    <tr>\n",
       "      <th>2</th>\n",
       "      <td>Orionids</td>\n",
       "      <td>Orion</td>\n",
       "      <td>10</td>\n",
       "      <td>10</td>\n",
       "      <td>2</td>\n",
       "      <td>11</td>\n",
       "      <td>7</td>\n",
       "      <td>northern, southern</td>\n",
       "      <td>northern, southern</td>\n",
       "      <td>2020-11-07</td>\n",
       "      <td>2020-10-02</td>\n",
       "    </tr>\n",
       "    <tr>\n",
       "      <th>3</th>\n",
       "      <td>Perseids</td>\n",
       "      <td>Perseus</td>\n",
       "      <td>8</td>\n",
       "      <td>7</td>\n",
       "      <td>14</td>\n",
       "      <td>8</td>\n",
       "      <td>24</td>\n",
       "      <td>northern</td>\n",
       "      <td>northern</td>\n",
       "      <td>2020-08-24</td>\n",
       "      <td>2020-07-14</td>\n",
       "    </tr>\n",
       "    <tr>\n",
       "      <th>4</th>\n",
       "      <td>Leonids</td>\n",
       "      <td>Leo</td>\n",
       "      <td>11</td>\n",
       "      <td>11</td>\n",
       "      <td>6</td>\n",
       "      <td>11</td>\n",
       "      <td>30</td>\n",
       "      <td>northern, southern</td>\n",
       "      <td>northern, southern</td>\n",
       "      <td>2020-11-30</td>\n",
       "      <td>2020-11-06</td>\n",
       "    </tr>\n",
       "  </tbody>\n",
       "</table>\n",
       "</div>"
      ],
      "text/plain": [
       "           name   radiant  bestmonth  startmonth  startday  endmonth  endday  \\\n",
       "0        Lyrids      Lyra          4           4        21         4      22   \n",
       "1  Eta Aquarids  Aquarius          5           4        19         5      28   \n",
       "2      Orionids     Orion         10          10         2        11       7   \n",
       "3      Perseids   Perseus          8           7        14         8      24   \n",
       "4       Leonids       Leo         11          11         6        11      30   \n",
       "\n",
       "           hemisphere preferredhemisphere    enddate  startdate  \n",
       "0            northern            northern 2020-04-22 2020-04-21  \n",
       "1  northern, southern            southern 2020-05-28 2020-04-19  \n",
       "2  northern, southern  northern, southern 2020-11-07 2020-10-02  \n",
       "3            northern            northern 2020-08-24 2020-07-14  \n",
       "4  northern, southern  northern, southern 2020-11-30 2020-11-06  "
      ]
     },
     "execution_count": 240,
     "metadata": {},
     "output_type": "execute_result"
    }
   ],
   "source": [
    "# 유성우 데이터프레임의 새로운 컬럼에 일자 정보를 datatime(20240428)으로 변환하여 저장, startdate, enddate\n",
    "# enddate 컬럼 추가\n",
    "\n",
    "meteor_showers['startdate'] = pd.to_datetime(2020 * 10000 + meteor_showers['startmonth']*100 + meteor_showers['startday'],format='%Y%m%d')\n",
    "\n",
    "#meteor_showers['enddate'] = pd.to_datetime(2020 * 10000 + meteor_showers['endmonth']*100 + meteor_showers['endday'],format='%Y%m%d')\n",
    "meteor_showers"
   ]
  },
  {
   "cell_type": "code",
   "execution_count": 289,
   "metadata": {},
   "outputs": [],
   "source": [
    "# moon_phases 데이터 프레임에 일자 정보를 datatime으로 변환하여 date컬럼 추가\n",
    "moon_phases['date'] = pd.to_datetime(2020 * 10000 + moon_phases['month'] * 100 + moon_phases['day'],format='%Y%m%d')\n",
    "\n"
   ]
  },
  {
   "cell_type": "code",
   "execution_count": 276,
   "metadata": {},
   "outputs": [
    {
     "data": {
      "text/html": [
       "<div>\n",
       "<style scoped>\n",
       "    .dataframe tbody tr th:only-of-type {\n",
       "        vertical-align: middle;\n",
       "    }\n",
       "\n",
       "    .dataframe tbody tr th {\n",
       "        vertical-align: top;\n",
       "    }\n",
       "\n",
       "    .dataframe thead th {\n",
       "        text-align: right;\n",
       "    }\n",
       "</style>\n",
       "<table border=\"1\" class=\"dataframe\">\n",
       "  <thead>\n",
       "    <tr style=\"text-align: right;\">\n",
       "      <th></th>\n",
       "      <th>month</th>\n",
       "      <th>day</th>\n",
       "      <th>moonphase</th>\n",
       "      <th>specialevent</th>\n",
       "      <th>date</th>\n",
       "    </tr>\n",
       "  </thead>\n",
       "  <tbody>\n",
       "    <tr>\n",
       "      <th>0</th>\n",
       "      <td>1</td>\n",
       "      <td>1</td>\n",
       "      <td>NaN</td>\n",
       "      <td>NaN</td>\n",
       "      <td>2020-01-01</td>\n",
       "    </tr>\n",
       "    <tr>\n",
       "      <th>1</th>\n",
       "      <td>1</td>\n",
       "      <td>2</td>\n",
       "      <td>first quarter</td>\n",
       "      <td>NaN</td>\n",
       "      <td>2020-01-02</td>\n",
       "    </tr>\n",
       "    <tr>\n",
       "      <th>2</th>\n",
       "      <td>1</td>\n",
       "      <td>3</td>\n",
       "      <td>NaN</td>\n",
       "      <td>NaN</td>\n",
       "      <td>2020-01-03</td>\n",
       "    </tr>\n",
       "    <tr>\n",
       "      <th>3</th>\n",
       "      <td>1</td>\n",
       "      <td>4</td>\n",
       "      <td>NaN</td>\n",
       "      <td>NaN</td>\n",
       "      <td>2020-01-04</td>\n",
       "    </tr>\n",
       "    <tr>\n",
       "      <th>4</th>\n",
       "      <td>1</td>\n",
       "      <td>5</td>\n",
       "      <td>NaN</td>\n",
       "      <td>NaN</td>\n",
       "      <td>2020-01-05</td>\n",
       "    </tr>\n",
       "    <tr>\n",
       "      <th>...</th>\n",
       "      <td>...</td>\n",
       "      <td>...</td>\n",
       "      <td>...</td>\n",
       "      <td>...</td>\n",
       "      <td>...</td>\n",
       "    </tr>\n",
       "    <tr>\n",
       "      <th>361</th>\n",
       "      <td>12</td>\n",
       "      <td>27</td>\n",
       "      <td>NaN</td>\n",
       "      <td>NaN</td>\n",
       "      <td>2020-12-27</td>\n",
       "    </tr>\n",
       "    <tr>\n",
       "      <th>362</th>\n",
       "      <td>12</td>\n",
       "      <td>28</td>\n",
       "      <td>NaN</td>\n",
       "      <td>NaN</td>\n",
       "      <td>2020-12-28</td>\n",
       "    </tr>\n",
       "    <tr>\n",
       "      <th>363</th>\n",
       "      <td>12</td>\n",
       "      <td>29</td>\n",
       "      <td>full moon</td>\n",
       "      <td>NaN</td>\n",
       "      <td>2020-12-29</td>\n",
       "    </tr>\n",
       "    <tr>\n",
       "      <th>364</th>\n",
       "      <td>12</td>\n",
       "      <td>30</td>\n",
       "      <td>NaN</td>\n",
       "      <td>NaN</td>\n",
       "      <td>2020-12-30</td>\n",
       "    </tr>\n",
       "    <tr>\n",
       "      <th>365</th>\n",
       "      <td>12</td>\n",
       "      <td>31</td>\n",
       "      <td>NaN</td>\n",
       "      <td>NaN</td>\n",
       "      <td>2020-12-31</td>\n",
       "    </tr>\n",
       "  </tbody>\n",
       "</table>\n",
       "<p>366 rows × 5 columns</p>\n",
       "</div>"
      ],
      "text/plain": [
       "     month  day      moonphase specialevent       date\n",
       "0        1    1            NaN          NaN 2020-01-01\n",
       "1        1    2  first quarter          NaN 2020-01-02\n",
       "2        1    3            NaN          NaN 2020-01-03\n",
       "3        1    4            NaN          NaN 2020-01-04\n",
       "4        1    5            NaN          NaN 2020-01-05\n",
       "..     ...  ...            ...          ...        ...\n",
       "361     12   27            NaN          NaN 2020-12-27\n",
       "362     12   28            NaN          NaN 2020-12-28\n",
       "363     12   29      full moon          NaN 2020-12-29\n",
       "364     12   30            NaN          NaN 2020-12-30\n",
       "365     12   31            NaN          NaN 2020-12-31\n",
       "\n",
       "[366 rows x 5 columns]"
      ]
     },
     "execution_count": 276,
     "metadata": {},
     "output_type": "execute_result"
    }
   ],
   "source": [
    "moon_phases"
   ]
  },
  {
   "cell_type": "markdown",
   "metadata": {},
   "source": [
    "## 달의 위상 데이터를 숫자로 변환"
   ]
  },
  {
   "cell_type": "code",
   "execution_count": 290,
   "metadata": {},
   "outputs": [
    {
     "data": {
      "text/plain": [
       "array([nan, 'first quarter', 'full moon', 'third quarter', 'new moon'],\n",
       "      dtype=object)"
      ]
     },
     "execution_count": 290,
     "metadata": {},
     "output_type": "execute_result"
    }
   ],
   "source": [
    "moon_phases['moonphase'].unique()"
   ]
  },
  {
   "cell_type": "code",
   "execution_count": 291,
   "metadata": {},
   "outputs": [
    {
     "data": {
      "text/plain": [
       "{'new moon': 0, 'first quarter': 0.5, 'third quarter': 0.5, 'full moon': 1}"
      ]
     },
     "execution_count": 291,
     "metadata": {},
     "output_type": "execute_result"
    }
   ],
   "source": [
    "# 달의 위상 데이터를 숫자로 변환하기\n",
    "phases = {'new moon' : 0 , 'first quarter' : 0.5, 'third quarter' : 0.5 , 'full moon' : 1}\n",
    "phases"
   ]
  },
  {
   "cell_type": "code",
   "execution_count": 292,
   "metadata": {},
   "outputs": [
    {
     "data": {
      "text/html": [
       "<div>\n",
       "<style scoped>\n",
       "    .dataframe tbody tr th:only-of-type {\n",
       "        vertical-align: middle;\n",
       "    }\n",
       "\n",
       "    .dataframe tbody tr th {\n",
       "        vertical-align: top;\n",
       "    }\n",
       "\n",
       "    .dataframe thead th {\n",
       "        text-align: right;\n",
       "    }\n",
       "</style>\n",
       "<table border=\"1\" class=\"dataframe\">\n",
       "  <thead>\n",
       "    <tr style=\"text-align: right;\">\n",
       "      <th></th>\n",
       "      <th>month</th>\n",
       "      <th>day</th>\n",
       "      <th>moonphase</th>\n",
       "      <th>specialevent</th>\n",
       "      <th>date</th>\n",
       "      <th>percentage</th>\n",
       "    </tr>\n",
       "  </thead>\n",
       "  <tbody>\n",
       "    <tr>\n",
       "      <th>0</th>\n",
       "      <td>1</td>\n",
       "      <td>1</td>\n",
       "      <td>NaN</td>\n",
       "      <td>NaN</td>\n",
       "      <td>2020-01-01</td>\n",
       "      <td>NaN</td>\n",
       "    </tr>\n",
       "    <tr>\n",
       "      <th>1</th>\n",
       "      <td>1</td>\n",
       "      <td>2</td>\n",
       "      <td>first quarter</td>\n",
       "      <td>NaN</td>\n",
       "      <td>2020-01-02</td>\n",
       "      <td>0.5</td>\n",
       "    </tr>\n",
       "    <tr>\n",
       "      <th>2</th>\n",
       "      <td>1</td>\n",
       "      <td>3</td>\n",
       "      <td>NaN</td>\n",
       "      <td>NaN</td>\n",
       "      <td>2020-01-03</td>\n",
       "      <td>NaN</td>\n",
       "    </tr>\n",
       "    <tr>\n",
       "      <th>3</th>\n",
       "      <td>1</td>\n",
       "      <td>4</td>\n",
       "      <td>NaN</td>\n",
       "      <td>NaN</td>\n",
       "      <td>2020-01-04</td>\n",
       "      <td>NaN</td>\n",
       "    </tr>\n",
       "    <tr>\n",
       "      <th>4</th>\n",
       "      <td>1</td>\n",
       "      <td>5</td>\n",
       "      <td>NaN</td>\n",
       "      <td>NaN</td>\n",
       "      <td>2020-01-05</td>\n",
       "      <td>NaN</td>\n",
       "    </tr>\n",
       "    <tr>\n",
       "      <th>...</th>\n",
       "      <td>...</td>\n",
       "      <td>...</td>\n",
       "      <td>...</td>\n",
       "      <td>...</td>\n",
       "      <td>...</td>\n",
       "      <td>...</td>\n",
       "    </tr>\n",
       "    <tr>\n",
       "      <th>361</th>\n",
       "      <td>12</td>\n",
       "      <td>27</td>\n",
       "      <td>NaN</td>\n",
       "      <td>NaN</td>\n",
       "      <td>2020-12-27</td>\n",
       "      <td>NaN</td>\n",
       "    </tr>\n",
       "    <tr>\n",
       "      <th>362</th>\n",
       "      <td>12</td>\n",
       "      <td>28</td>\n",
       "      <td>NaN</td>\n",
       "      <td>NaN</td>\n",
       "      <td>2020-12-28</td>\n",
       "      <td>NaN</td>\n",
       "    </tr>\n",
       "    <tr>\n",
       "      <th>363</th>\n",
       "      <td>12</td>\n",
       "      <td>29</td>\n",
       "      <td>full moon</td>\n",
       "      <td>NaN</td>\n",
       "      <td>2020-12-29</td>\n",
       "      <td>1.0</td>\n",
       "    </tr>\n",
       "    <tr>\n",
       "      <th>364</th>\n",
       "      <td>12</td>\n",
       "      <td>30</td>\n",
       "      <td>NaN</td>\n",
       "      <td>NaN</td>\n",
       "      <td>2020-12-30</td>\n",
       "      <td>NaN</td>\n",
       "    </tr>\n",
       "    <tr>\n",
       "      <th>365</th>\n",
       "      <td>12</td>\n",
       "      <td>31</td>\n",
       "      <td>NaN</td>\n",
       "      <td>NaN</td>\n",
       "      <td>2020-12-31</td>\n",
       "      <td>NaN</td>\n",
       "    </tr>\n",
       "  </tbody>\n",
       "</table>\n",
       "<p>366 rows × 6 columns</p>\n",
       "</div>"
      ],
      "text/plain": [
       "     month  day      moonphase specialevent       date  percentage\n",
       "0        1    1            NaN          NaN 2020-01-01         NaN\n",
       "1        1    2  first quarter          NaN 2020-01-02         0.5\n",
       "2        1    3            NaN          NaN 2020-01-03         NaN\n",
       "3        1    4            NaN          NaN 2020-01-04         NaN\n",
       "4        1    5            NaN          NaN 2020-01-05         NaN\n",
       "..     ...  ...            ...          ...        ...         ...\n",
       "361     12   27            NaN          NaN 2020-12-27         NaN\n",
       "362     12   28            NaN          NaN 2020-12-28         NaN\n",
       "363     12   29      full moon          NaN 2020-12-29         1.0\n",
       "364     12   30            NaN          NaN 2020-12-30         NaN\n",
       "365     12   31            NaN          NaN 2020-12-31         NaN\n",
       "\n",
       "[366 rows x 6 columns]"
      ]
     },
     "execution_count": 292,
     "metadata": {},
     "output_type": "execute_result"
    }
   ],
   "source": [
    "# 달의위상 데이터프레임에 phases데이터를 이용하여 백분율 컬럼(percentage) 새롭게 추가하기\n",
    "#1.  \n",
    "#moon_phases['moonphase'].map(phases) # dtype: float64 (실수) , NaN 있는 것도 확인됨\n",
    "\n",
    "#2.위와 겹치지않도록 위에서 확인한 부분을 주석처리후 아래와 같이 처리\n",
    "moon_phases['percentage'] = moon_phases['moonphase'].map(phases) \n",
    "moon_phases\n",
    "\n",
    "#위까지하면 아직 NaN값은 남아있는것을 볼 수 있다. "
   ]
  },
  {
   "cell_type": "markdown",
   "metadata": {},
   "source": [
    "## 불필요한 컬럼 삭제"
   ]
  },
  {
   "cell_type": "code",
   "execution_count": 24,
   "metadata": {},
   "outputs": [],
   "source": [
    "# 각 데이터 프레임에서 불필요한 컬럼 삭제하기 \n"
   ]
  },
  {
   "cell_type": "code",
   "execution_count": 248,
   "metadata": {},
   "outputs": [
    {
     "name": "stdout",
     "output_type": "stream",
     "text": [
      "Index(['name', 'radiant', 'bestmonth', 'preferredhemisphere', 'enddate',\n",
      "       'startdate'],\n",
      "      dtype='object')\n"
     ]
    }
   ],
   "source": [
    "#meteor_showers \n",
    "#startmonth,startday, endomth,endday, hemisphere 삭제  --미리보기기\n",
    "#meteor_showers.drop(columns=['startmonth','endmonth','endday','startday','hemisphere'])\n",
    "\n",
    "#데이터프레임에 덮어씌우기\n",
    "meteor_showers = meteor_showers.drop(columns=['startmonth','endmonth','endday','startday','hemisphere'])\n",
    "print(meteor_showers.columns) "
   ]
  },
  {
   "cell_type": "code",
   "execution_count": 294,
   "metadata": {},
   "outputs": [
    {
     "data": {
      "text/html": [
       "<div>\n",
       "<style scoped>\n",
       "    .dataframe tbody tr th:only-of-type {\n",
       "        vertical-align: middle;\n",
       "    }\n",
       "\n",
       "    .dataframe tbody tr th {\n",
       "        vertical-align: top;\n",
       "    }\n",
       "\n",
       "    .dataframe thead th {\n",
       "        text-align: right;\n",
       "    }\n",
       "</style>\n",
       "<table border=\"1\" class=\"dataframe\">\n",
       "  <thead>\n",
       "    <tr style=\"text-align: right;\">\n",
       "      <th></th>\n",
       "      <th>specialevent</th>\n",
       "      <th>date</th>\n",
       "      <th>percentage</th>\n",
       "    </tr>\n",
       "  </thead>\n",
       "  <tbody>\n",
       "    <tr>\n",
       "      <th>0</th>\n",
       "      <td>NaN</td>\n",
       "      <td>2020-01-01</td>\n",
       "      <td>NaN</td>\n",
       "    </tr>\n",
       "    <tr>\n",
       "      <th>1</th>\n",
       "      <td>NaN</td>\n",
       "      <td>2020-01-02</td>\n",
       "      <td>0.5</td>\n",
       "    </tr>\n",
       "    <tr>\n",
       "      <th>2</th>\n",
       "      <td>NaN</td>\n",
       "      <td>2020-01-03</td>\n",
       "      <td>NaN</td>\n",
       "    </tr>\n",
       "    <tr>\n",
       "      <th>3</th>\n",
       "      <td>NaN</td>\n",
       "      <td>2020-01-04</td>\n",
       "      <td>NaN</td>\n",
       "    </tr>\n",
       "    <tr>\n",
       "      <th>4</th>\n",
       "      <td>NaN</td>\n",
       "      <td>2020-01-05</td>\n",
       "      <td>NaN</td>\n",
       "    </tr>\n",
       "    <tr>\n",
       "      <th>...</th>\n",
       "      <td>...</td>\n",
       "      <td>...</td>\n",
       "      <td>...</td>\n",
       "    </tr>\n",
       "    <tr>\n",
       "      <th>361</th>\n",
       "      <td>NaN</td>\n",
       "      <td>2020-12-27</td>\n",
       "      <td>NaN</td>\n",
       "    </tr>\n",
       "    <tr>\n",
       "      <th>362</th>\n",
       "      <td>NaN</td>\n",
       "      <td>2020-12-28</td>\n",
       "      <td>NaN</td>\n",
       "    </tr>\n",
       "    <tr>\n",
       "      <th>363</th>\n",
       "      <td>NaN</td>\n",
       "      <td>2020-12-29</td>\n",
       "      <td>1.0</td>\n",
       "    </tr>\n",
       "    <tr>\n",
       "      <th>364</th>\n",
       "      <td>NaN</td>\n",
       "      <td>2020-12-30</td>\n",
       "      <td>NaN</td>\n",
       "    </tr>\n",
       "    <tr>\n",
       "      <th>365</th>\n",
       "      <td>NaN</td>\n",
       "      <td>2020-12-31</td>\n",
       "      <td>NaN</td>\n",
       "    </tr>\n",
       "  </tbody>\n",
       "</table>\n",
       "<p>366 rows × 3 columns</p>\n",
       "</div>"
      ],
      "text/plain": [
       "    specialevent       date  percentage\n",
       "0            NaN 2020-01-01         NaN\n",
       "1            NaN 2020-01-02         0.5\n",
       "2            NaN 2020-01-03         NaN\n",
       "3            NaN 2020-01-04         NaN\n",
       "4            NaN 2020-01-05         NaN\n",
       "..           ...        ...         ...\n",
       "361          NaN 2020-12-27         NaN\n",
       "362          NaN 2020-12-28         NaN\n",
       "363          NaN 2020-12-29         1.0\n",
       "364          NaN 2020-12-30         NaN\n",
       "365          NaN 2020-12-31         NaN\n",
       "\n",
       "[366 rows x 3 columns]"
      ]
     },
     "execution_count": 294,
     "metadata": {},
     "output_type": "execute_result"
    }
   ],
   "source": [
    "moon_phases_backup = moon_phases.copy() #백업 만들기\n",
    "\n",
    "#month,day, moonphase (percentage만들었음) 삭제 \n",
    "#moon_phases.drop(columns=['month','day','moonphase'])\n",
    "\n",
    "\n",
    "moon_phases = moon_phases.drop(columns=['month','day','moonphase'])\n",
    "moon_phases\n"
   ]
  },
  {
   "cell_type": "code",
   "execution_count": 250,
   "metadata": {},
   "outputs": [
    {
     "data": {
      "text/html": [
       "<div>\n",
       "<style scoped>\n",
       "    .dataframe tbody tr th:only-of-type {\n",
       "        vertical-align: middle;\n",
       "    }\n",
       "\n",
       "    .dataframe tbody tr th {\n",
       "        vertical-align: top;\n",
       "    }\n",
       "\n",
       "    .dataframe thead th {\n",
       "        text-align: right;\n",
       "    }\n",
       "</style>\n",
       "<table border=\"1\" class=\"dataframe\">\n",
       "  <thead>\n",
       "    <tr style=\"text-align: right;\">\n",
       "      <th></th>\n",
       "      <th>constellation</th>\n",
       "      <th>bestmonth</th>\n",
       "      <th>latitudestart</th>\n",
       "      <th>latitudeend</th>\n",
       "      <th>hemisphere</th>\n",
       "    </tr>\n",
       "  </thead>\n",
       "  <tbody>\n",
       "    <tr>\n",
       "      <th>0</th>\n",
       "      <td>Lyra</td>\n",
       "      <td>8</td>\n",
       "      <td>90</td>\n",
       "      <td>-40</td>\n",
       "      <td>northern</td>\n",
       "    </tr>\n",
       "    <tr>\n",
       "      <th>1</th>\n",
       "      <td>Aquarius</td>\n",
       "      <td>10</td>\n",
       "      <td>65</td>\n",
       "      <td>-90</td>\n",
       "      <td>southern</td>\n",
       "    </tr>\n",
       "    <tr>\n",
       "      <th>2</th>\n",
       "      <td>Orion</td>\n",
       "      <td>1</td>\n",
       "      <td>85</td>\n",
       "      <td>-75</td>\n",
       "      <td>northern</td>\n",
       "    </tr>\n",
       "    <tr>\n",
       "      <th>3</th>\n",
       "      <td>Perseus</td>\n",
       "      <td>12</td>\n",
       "      <td>90</td>\n",
       "      <td>-35</td>\n",
       "      <td>northern</td>\n",
       "    </tr>\n",
       "    <tr>\n",
       "      <th>4</th>\n",
       "      <td>Leo</td>\n",
       "      <td>4</td>\n",
       "      <td>90</td>\n",
       "      <td>65</td>\n",
       "      <td>northern</td>\n",
       "    </tr>\n",
       "  </tbody>\n",
       "</table>\n",
       "</div>"
      ],
      "text/plain": [
       "  constellation  bestmonth  latitudestart  latitudeend hemisphere\n",
       "0          Lyra          8             90          -40   northern\n",
       "1      Aquarius         10             65          -90   southern\n",
       "2         Orion          1             85          -75   northern\n",
       "3       Perseus         12             90          -35   northern\n",
       "4           Leo          4             90           65   northern"
      ]
     },
     "execution_count": 250,
     "metadata": {},
     "output_type": "execute_result"
    }
   ],
   "source": [
    "#constellations_backup = constellations.copy() 백업 만들기\n",
    "#constellations_backup = constellations.copy() \n",
    "\n",
    "#besttime 삭제\n",
    "#constellations.drop(columns=['besttime'])\n",
    "\n",
    "constellations = constellations.drop(columns=['besttime'])\n",
    "\n",
    "constellations\n"
   ]
  },
  {
   "cell_type": "markdown",
   "metadata": {},
   "source": [
    "## 달의 위상 누락값 처리"
   ]
  },
  {
   "cell_type": "code",
   "execution_count": 28,
   "metadata": {},
   "outputs": [],
   "source": [
    "# 달의위상 데이터 프레임에서 percentage 컬럼의 결측치 처리하기\n",
    "# 데이터 프레임의 각 행을 순회하면서 이전 위상값으로 채워넣기\n",
    "\n",
    "# iterrows()를 사용하여 moon_phases 데이터프레임의 각 행을 순차적으로 반복하면서 행(row)과 그 행의 인덱스(index)를 가져옵니다.\n",
    "# 결측값인 경우, lastphase에 저장된 값을 해당 행의 'percentage'에 채워 넣습니다. 즉, 이전에 확인된 마지막 'percentage' 값을 사용하여 결측값을 대체합니다.\n"
   ]
  },
  {
   "cell_type": "code",
   "execution_count": 295,
   "metadata": {},
   "outputs": [
    {
     "data": {
      "text/html": [
       "<div>\n",
       "<style scoped>\n",
       "    .dataframe tbody tr th:only-of-type {\n",
       "        vertical-align: middle;\n",
       "    }\n",
       "\n",
       "    .dataframe tbody tr th {\n",
       "        vertical-align: top;\n",
       "    }\n",
       "\n",
       "    .dataframe thead th {\n",
       "        text-align: right;\n",
       "    }\n",
       "</style>\n",
       "<table border=\"1\" class=\"dataframe\">\n",
       "  <thead>\n",
       "    <tr style=\"text-align: right;\">\n",
       "      <th></th>\n",
       "      <th>specialevent</th>\n",
       "      <th>date</th>\n",
       "      <th>percentage</th>\n",
       "    </tr>\n",
       "  </thead>\n",
       "  <tbody>\n",
       "    <tr>\n",
       "      <th>0</th>\n",
       "      <td>NaN</td>\n",
       "      <td>2020-01-01</td>\n",
       "      <td>NaN</td>\n",
       "    </tr>\n",
       "    <tr>\n",
       "      <th>1</th>\n",
       "      <td>NaN</td>\n",
       "      <td>2020-01-02</td>\n",
       "      <td>0.5</td>\n",
       "    </tr>\n",
       "    <tr>\n",
       "      <th>2</th>\n",
       "      <td>NaN</td>\n",
       "      <td>2020-01-03</td>\n",
       "      <td>NaN</td>\n",
       "    </tr>\n",
       "    <tr>\n",
       "      <th>3</th>\n",
       "      <td>NaN</td>\n",
       "      <td>2020-01-04</td>\n",
       "      <td>NaN</td>\n",
       "    </tr>\n",
       "    <tr>\n",
       "      <th>4</th>\n",
       "      <td>NaN</td>\n",
       "      <td>2020-01-05</td>\n",
       "      <td>NaN</td>\n",
       "    </tr>\n",
       "    <tr>\n",
       "      <th>...</th>\n",
       "      <td>...</td>\n",
       "      <td>...</td>\n",
       "      <td>...</td>\n",
       "    </tr>\n",
       "    <tr>\n",
       "      <th>361</th>\n",
       "      <td>NaN</td>\n",
       "      <td>2020-12-27</td>\n",
       "      <td>NaN</td>\n",
       "    </tr>\n",
       "    <tr>\n",
       "      <th>362</th>\n",
       "      <td>NaN</td>\n",
       "      <td>2020-12-28</td>\n",
       "      <td>NaN</td>\n",
       "    </tr>\n",
       "    <tr>\n",
       "      <th>363</th>\n",
       "      <td>NaN</td>\n",
       "      <td>2020-12-29</td>\n",
       "      <td>1.0</td>\n",
       "    </tr>\n",
       "    <tr>\n",
       "      <th>364</th>\n",
       "      <td>NaN</td>\n",
       "      <td>2020-12-30</td>\n",
       "      <td>NaN</td>\n",
       "    </tr>\n",
       "    <tr>\n",
       "      <th>365</th>\n",
       "      <td>NaN</td>\n",
       "      <td>2020-12-31</td>\n",
       "      <td>NaN</td>\n",
       "    </tr>\n",
       "  </tbody>\n",
       "</table>\n",
       "<p>366 rows × 3 columns</p>\n",
       "</div>"
      ],
      "text/plain": [
       "    specialevent       date  percentage\n",
       "0            NaN 2020-01-01         NaN\n",
       "1            NaN 2020-01-02         0.5\n",
       "2            NaN 2020-01-03         NaN\n",
       "3            NaN 2020-01-04         NaN\n",
       "4            NaN 2020-01-05         NaN\n",
       "..           ...        ...         ...\n",
       "361          NaN 2020-12-27         NaN\n",
       "362          NaN 2020-12-28         NaN\n",
       "363          NaN 2020-12-29         1.0\n",
       "364          NaN 2020-12-30         NaN\n",
       "365          NaN 2020-12-31         NaN\n",
       "\n",
       "[366 rows x 3 columns]"
      ]
     },
     "execution_count": 295,
     "metadata": {},
     "output_type": "execute_result"
    }
   ],
   "source": [
    "moon_phases"
   ]
  },
  {
   "cell_type": "markdown",
   "metadata": {},
   "source": [
    "# 데이터 프레임의 각 행을 순회하면서 이전 위상값으로 채워넣기 를 생각하자. \n",
    "# 결측값인 경우, lastphase에 저장된 값을 해당 행의 'percentage'에 채워 넣습니다. 즉, 이전에 확인된 마지막 'percentage' 값을 사용하여 결측값을 대체합니다.\n",
    "1행에서 0.5 2행에서 NaN 인데 , lastphase 변수에  0.5를 넣었다. (갱신됨) 왜냐면 기존에 0이 아니였기때문이다. \n",
    "2행이 NaN이어서 0.5를가짐 .....반복\n",
    "363행에서 1.0 나왔으니까 1가져, 그뒤로는 NaN에 1.0 넣었음\n",
    "\n"
   ]
  },
  {
   "cell_type": "code",
   "execution_count": null,
   "metadata": {},
   "outputs": [],
   "source": [
    "\n",
    "# iterrows()를 사용하여 moon_phases 데이터프레임의 각 행을 순차적으로 반복하면서 행(row)과 그 행의 인덱스(index)를 가져옵니다.\n",
    "# 결측값인 경우 lastphase를  해당 행의 percentage에 채워넣는다. \n",
    "#lastphase = 0.0\n",
    "\n",
    "#for i in moon_phases['percentage']:\n",
    "    #print(i) --val이 i였음, 확인 후 val로 변경한거임. \n",
    " #   val = moon_phases.loc[i,'percentage']\n",
    " #   if pd.isnull(val):\n",
    " #       moon_phases.loc[i,'percentage'] = lastphase\n",
    " #   else:\n",
    " #       lastphase = val\n",
    " #   print (i)\n",
    "\n",
    "\n",
    "#아래는 itterows 를 사용\n",
    "#lastphase = 0.0\n",
    "#for index, row in moon_phases.iterrows():   \n",
    "#    if pd.isna(row['percentage']): #pd.isnull(row['percentage']) 과 같다\n",
    "#     moon_phases.at[index, 'percentage'] = lastphase # moon_phases.loc[index,'percentage'] = lastphase\n",
    "#else : \n",
    "#    lastphase = row['percentage']\n",
    "\n",
    "\n",
    "#ffill 을 사용하는 방법도 있다"
   ]
  },
  {
   "cell_type": "code",
   "execution_count": null,
   "metadata": {},
   "outputs": [],
   "source": [
    "lastphase = 0.0\n",
    "\n",
    "for index, row in moon_phases.iterrows():\n",
    "    print(f\"index: {index}, percentage: {row['percentage']}, lastphase: {lastphase}\")  # 디버깅\n",
    "\n",
    "    if pd.isna(row['percentage']):\n",
    "        moon_phases.at[index, 'percentage'] = lastphase\n",
    "    else:\n",
    "        lastphase = row['percentage']\n",
    "\n",
    "\n",
    "moon_phases"
   ]
  },
  {
   "cell_type": "code",
   "execution_count": null,
   "metadata": {},
   "outputs": [],
   "source": [
    "print(moon_phases.loc[0:10, ['date', 'percentage']])\n"
   ]
  },
  {
   "cell_type": "markdown",
   "metadata": {},
   "source": [
    "# 데이터 분석"
   ]
  },
  {
   "cell_type": "markdown",
   "metadata": {},
   "source": [
    "## 위도 조회"
   ]
  },
  {
   "cell_type": "code",
   "execution_count": null,
   "metadata": {},
   "outputs": [],
   "source": [
    "지정된 도시에서 각 유성우를 볼 수 있는 가능성이 높은 날짜를 예측하려고 합니다."
   ]
  },
  {
   "cell_type": "code",
   "execution_count": 95,
   "metadata": {},
   "outputs": [
    {
     "data": {
      "text/html": [
       "<div>\n",
       "<style scoped>\n",
       "    .dataframe tbody tr th:only-of-type {\n",
       "        vertical-align: middle;\n",
       "    }\n",
       "\n",
       "    .dataframe tbody tr th {\n",
       "        vertical-align: top;\n",
       "    }\n",
       "\n",
       "    .dataframe thead th {\n",
       "        text-align: right;\n",
       "    }\n",
       "</style>\n",
       "<table border=\"1\" class=\"dataframe\">\n",
       "  <thead>\n",
       "    <tr style=\"text-align: right;\">\n",
       "      <th></th>\n",
       "      <th>city</th>\n",
       "      <th>latitude</th>\n",
       "      <th>country</th>\n",
       "    </tr>\n",
       "  </thead>\n",
       "  <tbody>\n",
       "    <tr>\n",
       "      <th>0</th>\n",
       "      <td>Abu Dhabi</td>\n",
       "      <td>24.47</td>\n",
       "      <td>United Arab Emirates</td>\n",
       "    </tr>\n",
       "    <tr>\n",
       "      <th>1</th>\n",
       "      <td>Abuja</td>\n",
       "      <td>9.07</td>\n",
       "      <td>Nigeria</td>\n",
       "    </tr>\n",
       "    <tr>\n",
       "      <th>2</th>\n",
       "      <td>Accra</td>\n",
       "      <td>5.55</td>\n",
       "      <td>Ghana</td>\n",
       "    </tr>\n",
       "    <tr>\n",
       "      <th>3</th>\n",
       "      <td>Adamstown</td>\n",
       "      <td>-25.07</td>\n",
       "      <td>Pitcairn Islands</td>\n",
       "    </tr>\n",
       "    <tr>\n",
       "      <th>4</th>\n",
       "      <td>Addis Ababa</td>\n",
       "      <td>9.02</td>\n",
       "      <td>Ethiopia</td>\n",
       "    </tr>\n",
       "    <tr>\n",
       "      <th>...</th>\n",
       "      <td>...</td>\n",
       "      <td>...</td>\n",
       "      <td>...</td>\n",
       "    </tr>\n",
       "    <tr>\n",
       "      <th>251</th>\n",
       "      <td>Abidjan(former capital)</td>\n",
       "      <td>6.82</td>\n",
       "      <td>Ivory Coast</td>\n",
       "    </tr>\n",
       "    <tr>\n",
       "      <th>252</th>\n",
       "      <td>Yaounde</td>\n",
       "      <td>3.87</td>\n",
       "      <td>Cameroon</td>\n",
       "    </tr>\n",
       "    <tr>\n",
       "      <th>253</th>\n",
       "      <td>Yaren(de facto)</td>\n",
       "      <td>-0.53</td>\n",
       "      <td>Nauru</td>\n",
       "    </tr>\n",
       "    <tr>\n",
       "      <th>254</th>\n",
       "      <td>Yerevan</td>\n",
       "      <td>40.18</td>\n",
       "      <td>Armenia</td>\n",
       "    </tr>\n",
       "    <tr>\n",
       "      <th>255</th>\n",
       "      <td>Zagreb</td>\n",
       "      <td>45.82</td>\n",
       "      <td>Croatia</td>\n",
       "    </tr>\n",
       "  </tbody>\n",
       "</table>\n",
       "<p>256 rows × 3 columns</p>\n",
       "</div>"
      ],
      "text/plain": [
       "                        city  latitude               country\n",
       "0                  Abu Dhabi     24.47  United Arab Emirates\n",
       "1                      Abuja      9.07               Nigeria\n",
       "2                      Accra      5.55                 Ghana\n",
       "3                  Adamstown    -25.07      Pitcairn Islands\n",
       "4                Addis Ababa      9.02              Ethiopia\n",
       "..                       ...       ...                   ...\n",
       "251  Abidjan(former capital)      6.82           Ivory Coast\n",
       "252                  Yaounde      3.87              Cameroon\n",
       "253          Yaren(de facto)     -0.53                 Nauru\n",
       "254                  Yerevan     40.18               Armenia\n",
       "255                   Zagreb     45.82               Croatia\n",
       "\n",
       "[256 rows x 3 columns]"
      ]
     },
     "execution_count": 95,
     "metadata": {},
     "output_type": "execute_result"
    }
   ],
   "source": [
    "cities"
   ]
  },
  {
   "cell_type": "code",
   "execution_count": 98,
   "metadata": {},
   "outputs": [
    {
     "data": {
      "text/plain": [
       "0    24.47\n",
       "Name: latitude, dtype: float64"
      ]
     },
     "execution_count": 98,
     "metadata": {},
     "output_type": "execute_result"
    }
   ],
   "source": [
    "# 도시 데이터프레임에서 검색한 열(검색한 도시의 위도)만 가져오기\n",
    "latitude = cities.loc[cities['city'] == 'Abu Dhabi','latitude'] \n",
    "latitude"
   ]
  },
  {
   "cell_type": "code",
   "execution_count": 99,
   "metadata": {},
   "outputs": [
    {
     "data": {
      "text/plain": [
       "pandas.core.series.Series"
      ]
     },
     "execution_count": 99,
     "metadata": {},
     "output_type": "execute_result"
    }
   ],
   "source": [
    "type(latitude)"
   ]
  },
  {
   "cell_type": "code",
   "execution_count": 101,
   "metadata": {},
   "outputs": [
    {
     "name": "stdout",
     "output_type": "stream",
     "text": [
      "202    37.55\n",
      "Name: latitude, dtype: float64\n"
     ]
    }
   ],
   "source": [
    "print(cities.loc[cities['city'] == 'Seoul','latitude'] )"
   ]
  },
  {
   "cell_type": "markdown",
   "metadata": {},
   "source": [
    "### 도시명 입력 후 위도 반환"
   ]
  },
  {
   "cell_type": "code",
   "execution_count": 102,
   "metadata": {},
   "outputs": [],
   "source": [
    "# 도시명을 입력하면 위도를 반환하는 함수 만들기\n",
    "\n",
    "def predict_best_meteor_shower_viewing(city):\n",
    "    latitude = cities.loc[credits['city'] == city, 'latitude'] .iloc[0]\n",
    "    return latitude"
   ]
  },
  {
   "cell_type": "code",
   "execution_count": 36,
   "metadata": {},
   "outputs": [
    {
     "name": "stdout",
     "output_type": "stream",
     "text": [
      "24.47\n"
     ]
    }
   ],
   "source": [
    "print(predict_best_meteor_shower_viewing('Abu Dhabi'))"
   ]
  },
  {
   "cell_type": "code",
   "execution_count": 37,
   "metadata": {},
   "outputs": [
    {
     "name": "stdout",
     "output_type": "stream",
     "text": [
      "37.55\n"
     ]
    }
   ],
   "source": [
    "print(predict_best_meteor_shower_viewing('Seoul'))"
   ]
  },
  {
   "cell_type": "markdown",
   "metadata": {},
   "source": [
    "## 특정 위도에서 볼 수 있는 별자리 조회"
   ]
  },
  {
   "cell_type": "code",
   "execution_count": null,
   "metadata": {},
   "outputs": [
    {
     "data": {
      "text/html": [
       "<div>\n",
       "<style scoped>\n",
       "    .dataframe tbody tr th:only-of-type {\n",
       "        vertical-align: middle;\n",
       "    }\n",
       "\n",
       "    .dataframe tbody tr th {\n",
       "        vertical-align: top;\n",
       "    }\n",
       "\n",
       "    .dataframe thead th {\n",
       "        text-align: right;\n",
       "    }\n",
       "</style>\n",
       "<table border=\"1\" class=\"dataframe\">\n",
       "  <thead>\n",
       "    <tr style=\"text-align: right;\">\n",
       "      <th></th>\n",
       "      <th>constellation</th>\n",
       "      <th>bestmonth</th>\n",
       "      <th>latitudestart</th>\n",
       "      <th>latitudeend</th>\n",
       "      <th>hemisphere</th>\n",
       "    </tr>\n",
       "  </thead>\n",
       "  <tbody>\n",
       "    <tr>\n",
       "      <th>0</th>\n",
       "      <td>Lyra</td>\n",
       "      <td>8</td>\n",
       "      <td>90</td>\n",
       "      <td>-40</td>\n",
       "      <td>northern</td>\n",
       "    </tr>\n",
       "    <tr>\n",
       "      <th>1</th>\n",
       "      <td>Aquarius</td>\n",
       "      <td>10</td>\n",
       "      <td>65</td>\n",
       "      <td>-90</td>\n",
       "      <td>southern</td>\n",
       "    </tr>\n",
       "    <tr>\n",
       "      <th>2</th>\n",
       "      <td>Orion</td>\n",
       "      <td>1</td>\n",
       "      <td>85</td>\n",
       "      <td>-75</td>\n",
       "      <td>northern</td>\n",
       "    </tr>\n",
       "    <tr>\n",
       "      <th>3</th>\n",
       "      <td>Perseus</td>\n",
       "      <td>12</td>\n",
       "      <td>90</td>\n",
       "      <td>-35</td>\n",
       "      <td>northern</td>\n",
       "    </tr>\n",
       "    <tr>\n",
       "      <th>4</th>\n",
       "      <td>Leo</td>\n",
       "      <td>4</td>\n",
       "      <td>90</td>\n",
       "      <td>65</td>\n",
       "      <td>northern</td>\n",
       "    </tr>\n",
       "  </tbody>\n",
       "</table>\n",
       "</div>"
      ],
      "text/plain": [
       "  constellation  bestmonth  latitudestart  latitudeend hemisphere\n",
       "0          Lyra          8             90          -40   northern\n",
       "1      Aquarius         10             65          -90   southern\n",
       "2         Orion          1             85          -75   northern\n",
       "3       Perseus         12             90          -35   northern\n",
       "4           Leo          4             90           65   northern"
      ]
     },
     "execution_count": 38,
     "metadata": {},
     "output_type": "execute_result"
    }
   ],
   "source": [
    "constellations[(constellations['latitudestart'] >= latitude) & (constellations['latitudeend'] <= latitude)]['constellations'].tolist()\n",
    "\n",
    "constellations"
   ]
  },
  {
   "cell_type": "code",
   "execution_count": 120,
   "metadata": {},
   "outputs": [],
   "source": [
    "# 도시명을 입력하면 위도와 별자리 리스트를 반환하는 함수 만들기\n",
    "\n",
    "def predict_best_meteor_shower_viewing(city):\n",
    "    latitude = cities.loc[cities['city'] == city, 'latitude'] .iloc[0]\n",
    "    constellation_list = constellations[(constellations['latitudestart'] >= latitude) & (constellations['latitudeend'] <= latitude)]['constellation'].tolist()\n",
    "\n",
    "    return latitude, constellation_list\n"
   ]
  },
  {
   "cell_type": "code",
   "execution_count": 122,
   "metadata": {},
   "outputs": [
    {
     "data": {
      "text/plain": [
       "(np.float64(-41.28), ['Aquarius', 'Orion'])"
      ]
     },
     "execution_count": 122,
     "metadata": {},
     "output_type": "execute_result"
    }
   ],
   "source": [
    "# 뉴질랜드 웰링턴으로 확인\n",
    "predict_best_meteor_shower_viewing('Wellington')"
   ]
  },
  {
   "cell_type": "code",
   "execution_count": 123,
   "metadata": {},
   "outputs": [
    {
     "data": {
      "text/plain": [
       "(np.float64(37.55), ['Lyra', 'Aquarius', 'Orion', 'Perseus'])"
      ]
     },
     "execution_count": 123,
     "metadata": {},
     "output_type": "execute_result"
    }
   ],
   "source": [
    "predict_best_meteor_shower_viewing('Seoul')"
   ]
  },
  {
   "cell_type": "markdown",
   "metadata": {},
   "source": [
    "## 문자 안내 출력"
   ]
  },
  {
   "cell_type": "code",
   "execution_count": 322,
   "metadata": {},
   "outputs": [
    {
     "data": {
      "text/html": [
       "<div>\n",
       "<style scoped>\n",
       "    .dataframe tbody tr th:only-of-type {\n",
       "        vertical-align: middle;\n",
       "    }\n",
       "\n",
       "    .dataframe tbody tr th {\n",
       "        vertical-align: top;\n",
       "    }\n",
       "\n",
       "    .dataframe thead th {\n",
       "        text-align: right;\n",
       "    }\n",
       "</style>\n",
       "<table border=\"1\" class=\"dataframe\">\n",
       "  <thead>\n",
       "    <tr style=\"text-align: right;\">\n",
       "      <th></th>\n",
       "      <th>city</th>\n",
       "      <th>latitude</th>\n",
       "      <th>country</th>\n",
       "    </tr>\n",
       "  </thead>\n",
       "  <tbody>\n",
       "    <tr>\n",
       "      <th>0</th>\n",
       "      <td>Abu Dhabi</td>\n",
       "      <td>24.47</td>\n",
       "      <td>United Arab Emirates</td>\n",
       "    </tr>\n",
       "    <tr>\n",
       "      <th>1</th>\n",
       "      <td>Abuja</td>\n",
       "      <td>9.07</td>\n",
       "      <td>Nigeria</td>\n",
       "    </tr>\n",
       "    <tr>\n",
       "      <th>2</th>\n",
       "      <td>Accra</td>\n",
       "      <td>5.55</td>\n",
       "      <td>Ghana</td>\n",
       "    </tr>\n",
       "    <tr>\n",
       "      <th>3</th>\n",
       "      <td>Adamstown</td>\n",
       "      <td>-25.07</td>\n",
       "      <td>Pitcairn Islands</td>\n",
       "    </tr>\n",
       "    <tr>\n",
       "      <th>4</th>\n",
       "      <td>Addis Ababa</td>\n",
       "      <td>9.02</td>\n",
       "      <td>Ethiopia</td>\n",
       "    </tr>\n",
       "    <tr>\n",
       "      <th>...</th>\n",
       "      <td>...</td>\n",
       "      <td>...</td>\n",
       "      <td>...</td>\n",
       "    </tr>\n",
       "    <tr>\n",
       "      <th>251</th>\n",
       "      <td>Abidjan(former capital)</td>\n",
       "      <td>6.82</td>\n",
       "      <td>Ivory Coast</td>\n",
       "    </tr>\n",
       "    <tr>\n",
       "      <th>252</th>\n",
       "      <td>Yaounde</td>\n",
       "      <td>3.87</td>\n",
       "      <td>Cameroon</td>\n",
       "    </tr>\n",
       "    <tr>\n",
       "      <th>253</th>\n",
       "      <td>Yaren(de facto)</td>\n",
       "      <td>-0.53</td>\n",
       "      <td>Nauru</td>\n",
       "    </tr>\n",
       "    <tr>\n",
       "      <th>254</th>\n",
       "      <td>Yerevan</td>\n",
       "      <td>40.18</td>\n",
       "      <td>Armenia</td>\n",
       "    </tr>\n",
       "    <tr>\n",
       "      <th>255</th>\n",
       "      <td>Zagreb</td>\n",
       "      <td>45.82</td>\n",
       "      <td>Croatia</td>\n",
       "    </tr>\n",
       "  </tbody>\n",
       "</table>\n",
       "<p>256 rows × 3 columns</p>\n",
       "</div>"
      ],
      "text/plain": [
       "                        city  latitude               country\n",
       "0                  Abu Dhabi     24.47  United Arab Emirates\n",
       "1                      Abuja      9.07               Nigeria\n",
       "2                      Accra      5.55                 Ghana\n",
       "3                  Adamstown    -25.07      Pitcairn Islands\n",
       "4                Addis Ababa      9.02              Ethiopia\n",
       "..                       ...       ...                   ...\n",
       "251  Abidjan(former capital)      6.82           Ivory Coast\n",
       "252                  Yaounde      3.87              Cameroon\n",
       "253          Yaren(de facto)     -0.53                 Nauru\n",
       "254                  Yerevan     40.18               Armenia\n",
       "255                   Zagreb     45.82               Croatia\n",
       "\n",
       "[256 rows x 3 columns]"
      ]
     },
     "execution_count": 322,
     "metadata": {},
     "output_type": "execute_result"
    }
   ],
   "source": [
    "cities"
   ]
  },
  {
   "cell_type": "code",
   "execution_count": null,
   "metadata": {},
   "outputs": [],
   "source": [
    "cities.values # 도시명 전체 조회"
   ]
  },
  {
   "cell_type": "code",
   "execution_count": 130,
   "metadata": {},
   "outputs": [
    {
     "name": "stdout",
     "output_type": "stream",
     "text": [
      "입력한 도시 광주에서는 유성우 서비스를 제공하고있지 않습니다.\n"
     ]
    }
   ],
   "source": [
    "city = '광주'\n",
    "\n",
    "\n",
    "meteor_shower_string=''\n",
    "\n",
    "if city not in cities.values: #cities.value에 city가 있는지?\n",
    "        meteor_shower_string = '입력한 도시 '  +city + '에서는 유성우 서비스를 제공하고있지 않습니다.'\n",
    "     \n",
    "\n",
    "print(meteor_shower_string)\n",
    "\n"
   ]
  },
  {
   "cell_type": "code",
   "execution_count": 131,
   "metadata": {},
   "outputs": [],
   "source": [
    "# 도시명을 입력히면 위도와 별자리리스트와 메시지를 반환하는 함수\n",
    "\n",
    "def predict_best_meteor_shower_viewing(city):\n",
    "    \n",
    "    #도시가 없을 때 처리 \n",
    "    if city not in cities.values: #cities.value에 city가 있는지?\n",
    "        meteor_shower_string = '입력한 도시 '  +city + '에서는 유성우 서비스를 제공하고있지 않습니다.'\n",
    "        return meteor_shower_string\n",
    "    \n",
    "    latitude = cities.loc[cities['city'] == city, 'latitude'] .iloc[0]    \n",
    "    constellation_list = constellations[(constellations['latitudestart'] >= latitude) & (constellations['latitudeend'] <= latitude)]['constellation'].tolist()\n",
    "\n",
    "\n",
    "    #constellation_list가 비어이있을수 있으니 해당 처리가 필요함\n",
    "    \n",
    "    #consetllation_list가 존재하지않으면 , \"city\"에서는 볼 수 있는 별자리가 없습니다.\n",
    "    if not constellation_list:\n",
    "        meteor_shower_string= city+'에서 볼 수 있는 별자리가 없습니다.'\n",
    "\n",
    "    #\"city\"에서는 \" \"별자리를 관측할 수 있습니다. \n",
    "    meteor_shower_string = f'{city}에서는 유성우 관측이 가능합니다.'\n",
    "\n",
    "    \n",
    "    return latitude, constellation_list, meteor_shower_string"
   ]
  },
  {
   "cell_type": "code",
   "execution_count": 132,
   "metadata": {},
   "outputs": [
    {
     "data": {
      "text/plain": [
       "(np.float64(-41.28), ['Aquarius', 'Orion'], 'Wellington에서는 유성우 관측이 가능합니다.')"
      ]
     },
     "execution_count": 132,
     "metadata": {},
     "output_type": "execute_result"
    }
   ],
   "source": [
    "wellington = predict_best_meteor_shower_viewing('Wellington')\n",
    "wellington"
   ]
  },
  {
   "cell_type": "code",
   "execution_count": 133,
   "metadata": {},
   "outputs": [
    {
     "data": {
      "text/plain": [
       "'입력한 도시 광주에서는 유성우 서비스를 제공하고있지 않습니다.'"
      ]
     },
     "execution_count": 133,
     "metadata": {},
     "output_type": "execute_result"
    }
   ],
   "source": [
    "predict_best_meteor_shower_viewing('광주')"
   ]
  },
  {
   "cell_type": "code",
   "execution_count": 134,
   "metadata": {},
   "outputs": [
    {
     "data": {
      "text/plain": [
       "(np.float64(13.75),\n",
       " ['Lyra', 'Aquarius', 'Orion', 'Perseus'],\n",
       " 'Bangkok에서는 유성우 관측이 가능합니다.')"
      ]
     },
     "execution_count": 134,
     "metadata": {},
     "output_type": "execute_result"
    }
   ],
   "source": [
    "predict_best_meteor_shower_viewing('Bangkok')"
   ]
  },
  {
   "cell_type": "code",
   "execution_count": 55,
   "metadata": {},
   "outputs": [
    {
     "data": {
      "text/plain": [
       "(np.float64(-41.28), ['Aquarius', 'Orion'], 'Wellington에서는 별자리 관측이 가능합니다.')"
      ]
     },
     "execution_count": 55,
     "metadata": {},
     "output_type": "execute_result"
    }
   ],
   "source": [
    "wellington"
   ]
  },
  {
   "cell_type": "markdown",
   "metadata": {},
   "source": [
    "## 유성우 관측 기간 조회(선택한 도시에서 관측 가능한 별자리 추출)"
   ]
  },
  {
   "cell_type": "code",
   "execution_count": 52,
   "metadata": {},
   "outputs": [
    {
     "data": {
      "text/html": [
       "<div>\n",
       "<style scoped>\n",
       "    .dataframe tbody tr th:only-of-type {\n",
       "        vertical-align: middle;\n",
       "    }\n",
       "\n",
       "    .dataframe tbody tr th {\n",
       "        vertical-align: top;\n",
       "    }\n",
       "\n",
       "    .dataframe thead th {\n",
       "        text-align: right;\n",
       "    }\n",
       "</style>\n",
       "<table border=\"1\" class=\"dataframe\">\n",
       "  <thead>\n",
       "    <tr style=\"text-align: right;\">\n",
       "      <th></th>\n",
       "      <th>name</th>\n",
       "      <th>radiant</th>\n",
       "      <th>bestmonth</th>\n",
       "      <th>preferredhemisphere</th>\n",
       "      <th>startdate</th>\n",
       "      <th>enddate</th>\n",
       "    </tr>\n",
       "  </thead>\n",
       "  <tbody>\n",
       "    <tr>\n",
       "      <th>0</th>\n",
       "      <td>Lyrids</td>\n",
       "      <td>Lyra</td>\n",
       "      <td>4</td>\n",
       "      <td>northern</td>\n",
       "      <td>2020-04-21</td>\n",
       "      <td>2020-04-22</td>\n",
       "    </tr>\n",
       "    <tr>\n",
       "      <th>1</th>\n",
       "      <td>Eta Aquarids</td>\n",
       "      <td>Aquarius</td>\n",
       "      <td>5</td>\n",
       "      <td>southern</td>\n",
       "      <td>2020-04-19</td>\n",
       "      <td>2020-05-28</td>\n",
       "    </tr>\n",
       "    <tr>\n",
       "      <th>2</th>\n",
       "      <td>Orionids</td>\n",
       "      <td>Orion</td>\n",
       "      <td>10</td>\n",
       "      <td>northern, southern</td>\n",
       "      <td>2020-10-02</td>\n",
       "      <td>2020-11-07</td>\n",
       "    </tr>\n",
       "    <tr>\n",
       "      <th>3</th>\n",
       "      <td>Perseids</td>\n",
       "      <td>Perseus</td>\n",
       "      <td>8</td>\n",
       "      <td>northern</td>\n",
       "      <td>2020-07-14</td>\n",
       "      <td>2020-08-24</td>\n",
       "    </tr>\n",
       "    <tr>\n",
       "      <th>4</th>\n",
       "      <td>Leonids</td>\n",
       "      <td>Leo</td>\n",
       "      <td>11</td>\n",
       "      <td>northern, southern</td>\n",
       "      <td>2020-11-06</td>\n",
       "      <td>2020-11-30</td>\n",
       "    </tr>\n",
       "  </tbody>\n",
       "</table>\n",
       "</div>"
      ],
      "text/plain": [
       "           name   radiant  bestmonth preferredhemisphere  startdate    enddate\n",
       "0        Lyrids      Lyra          4            northern 2020-04-21 2020-04-22\n",
       "1  Eta Aquarids  Aquarius          5            southern 2020-04-19 2020-05-28\n",
       "2      Orionids     Orion         10  northern, southern 2020-10-02 2020-11-07\n",
       "3      Perseids   Perseus          8            northern 2020-07-14 2020-08-24\n",
       "4       Leonids       Leo         11  northern, southern 2020-11-06 2020-11-30"
      ]
     },
     "execution_count": 52,
     "metadata": {},
     "output_type": "execute_result"
    }
   ],
   "source": [
    "meteor_showers.head()"
   ]
  },
  {
   "cell_type": "code",
   "execution_count": 140,
   "metadata": {},
   "outputs": [],
   "source": [
    "# 유성우 관측 시작일 가져오기\n",
    "# 여기서는 Wellington의 결과값을 가지고 조회\n"
   ]
  },
  {
   "cell_type": "code",
   "execution_count": 136,
   "metadata": {},
   "outputs": [
    {
     "data": {
      "text/plain": [
       "Timestamp('2020-10-02 00:00:00')"
      ]
     },
     "execution_count": 136,
     "metadata": {},
     "output_type": "execute_result"
    }
   ],
   "source": [
    "meteor_showers_startdate = meteor_showers.loc[meteor_showers['radiant'] == 'Orion','startdate'].iloc[0]\n",
    "meteor_showers_startdate"
   ]
  },
  {
   "cell_type": "code",
   "execution_count": 300,
   "metadata": {},
   "outputs": [],
   "source": [
    "# 유성우 관측 종료일\n"
   ]
  },
  {
   "cell_type": "code",
   "execution_count": 301,
   "metadata": {},
   "outputs": [
    {
     "data": {
      "text/plain": [
       "Timestamp('2020-11-07 00:00:00')"
      ]
     },
     "execution_count": 301,
     "metadata": {},
     "output_type": "execute_result"
    }
   ],
   "source": [
    "meteor_showers_enddate = meteor_showers.loc[meteor_showers['radiant'] == 'Orion','enddate'].iloc[0]\n",
    "meteor_showers_enddate"
   ]
  },
  {
   "cell_type": "code",
   "execution_count": 302,
   "metadata": {},
   "outputs": [],
   "source": [
    "meteor_showers_startdate = meteor_showers.loc[meteor_showers['radiant'] == 'Orion','startdate'].iloc[0]\n",
    "meteor_showers_enddate = meteor_showers.loc[meteor_showers['radiant'] == 'Orion','enddate'].iloc[0]"
   ]
  },
  {
   "cell_type": "markdown",
   "metadata": {},
   "source": [
    "## 달의 위상 최저치 추출"
   ]
  },
  {
   "cell_type": "code",
   "execution_count": null,
   "metadata": {},
   "outputs": [],
   "source": [
    "달 위상의 최소값(달에서 반사되는 빛의 최소량)을 찾을 수 있습니다. 이 예측 함수에서는 첫 번째 날짜만 확인합니다."
   ]
  },
  {
   "cell_type": "code",
   "execution_count": 315,
   "metadata": {},
   "outputs": [
    {
     "data": {
      "text/plain": [
       "np.int64(275)"
      ]
     },
     "execution_count": 315,
     "metadata": {},
     "output_type": "execute_result"
    }
   ],
   "source": [
    "# 가장 어두운 날 찾기\n",
    "moon_phase_list['percentage'].idxmin() #가장 백분율이 적은 행 인덱스 반환"
   ]
  },
  {
   "cell_type": "code",
   "execution_count": 317,
   "metadata": {},
   "outputs": [
    {
     "data": {
      "text/plain": [
       "Timestamp('2020-10-02 00:00:00')"
      ]
     },
     "execution_count": 317,
     "metadata": {},
     "output_type": "execute_result"
    }
   ],
   "source": [
    "# 가장 어두운 날 찾기\n",
    "best_moon_date = moon_phase_list.loc[moon_phase_list['percentage'].idxmin()]['date']\n",
    "\n",
    "best_moon_date"
   ]
  },
  {
   "cell_type": "code",
   "execution_count": 321,
   "metadata": {},
   "outputs": [
    {
     "data": {
      "text/plain": [
       "Timestamp('2020-10-16 00:00:00')"
      ]
     },
     "execution_count": 321,
     "metadata": {},
     "output_type": "execute_result"
    }
   ],
   "source": [
    "meteor_showers_startdate = meteor_showers.loc[meteor_showers['radiant'] == 'Orion', 'startdate'].iloc[0]\n",
    "meteor_showers_enddate = meteor_showers[meteor_showers['radiant'] == 'Orion']['enddate'].iloc[0]\n",
    "\n",
    "moon_phase_list = moon_phases.loc[(moon_phases['date'] >= meteor_showers_startdate) & (moon_phases['date'] <= meteor_showers_enddate)]\n",
    "moon_phase_list\n",
    "\n",
    "best_moon_date = moon_phase_list.loc[moon_phase_list['percentage'].idxmin()]['date']\n",
    "best_moon_date"
   ]
  },
  {
   "cell_type": "markdown",
   "metadata": {},
   "source": [
    "## 최적의 유성우 관측일"
   ]
  },
  {
   "cell_type": "code",
   "execution_count": 324,
   "metadata": {},
   "outputs": [],
   "source": [
    "# 도시명을 입력하면 관측가능한 유성우에 대한 정보를 알려주는 함수 작성하기\n",
    "\n",
    "def predict_best_meteor_shower_viewing(city):\n",
    "    # 안내 메시지 초기화\n",
    "    meteor_shower_string = ''\n",
    "\n",
    "    # 입력한 도시 정보가 존재하지 않으면 오류 메시지 그리고 return 으로 함수를 종료합니다.\n",
    "    if city not in cities.values:\n",
    "        meteor_shower_string = '입력하신'+city+'에서는 유성우 관측이 불가합니다.'\n",
    "        return meteor_shower_string  \n",
    "    \n",
    "    # 도시의 위도 정보를 불러오기\n",
    "    \n",
    "    # 도시의 이름이 주어졌을때, 해당 도시의 위도(latitude) 값 이 필요하다는 의미이다. \n",
    "    #1.입력한 도시의 이름이 cities(데이터프레임)안에 존재하는지 확인하기 위해, 도시이름이 같은 지 비교하는 조건문을 작성한다. \n",
    "    # cities['city'] == city  \n",
    "    #2. 위의 조건문을 작성했으니 이제 조건을 만족하는 행에서 필요한 컬럼을 뽑아와야한다.\n",
    "    # .loc[조건, 컬럼명]\n",
    "    # ▶ cities 데이터 프레임에서, city 컬럼에  입력한 'city'가 있는 행 중 latitude 컬럼만 뽑아옵니다. \n",
    "    # cities.loc[cities['city'] == city,'latitude']\n",
    "    #3. iloc[0] : 위에서 뽑아낸 결과값에서 float 숫자 하나만 필요하기 때문에 시리즈의 첫번째 값을 꺼내옵니다. → Series 타입은 리스트 처럼 생긴 데이터를 의미하는 객체인데,  series 란 한 열 또는 하나의 값 목록입니다. 인덱스가 있어서 리스트 보다 유연하다. \n",
    "    latitude = cities.loc[cities['city'] == city,'latitude'].iloc[0]\n",
    "    \n",
    "\n",
    "    # 해당 도시의 위도에서 관측 가능한 별자리 조회\n",
    "    constellation_list = constellations[(constellations['latitudestart'] >= latitude) & (constellations['latitudeend'] <= latitude)]['constellation'].tolist()\n",
    "\n",
    "\n",
    "\n",
    "    # 볼 수 있는 별자리가 존재하지 않으면 오류 메시지\n",
    "    if not constellation_list:\n",
    "        meteor_shower_string = f\"아쉽지만 {city}에서는 볼 수 있는 별자리가 없습니다.\"\n",
    "        return meteor_shower_string\n",
    "\n",
    "    \n",
    "    # 별자리 관측 가능 안내 메시지\n",
    "    meteor_shower_string = f'{city}에서는 유성우 관측이 가능합니다.\\n'\n",
    "\n",
    "    \n",
    "    # 도시별 관찰 가능한 별자리 iterate\n",
    "    for constellation in constellation_list:\n",
    "        # 별자리와 가장 가까운 유성우 조회\n",
    "        meteor_shower = meteor_showers.loc[meteor_showers['radiant'] == constellation, 'name'].iloc[0]\n",
    "\n",
    "\n",
    "        # 유성우 관측이 가능한 시작일과 종료일\n",
    "        meteor_showers_startdate = meteor_showers.loc[meteor_showers['radiant'] == constellation, 'startdate'].iloc[0]\n",
    "\n",
    "\n",
    "        # 유성우가 보일 때의 달의 위상 조회\n",
    "        meteor_showers_enddate = meteor_showers.loc[meteor_showers['radiant'] == constellation,'enddate'].iloc[0]\n",
    "\n",
    "        # 달이 눈에 보이는 첫 날 조회\n",
    "        best_moon_date = moon_phase_list.loc[moon_phase_list['percentage'].idxmin()]['date']\n",
    "\n",
    "\n",
    "\n",
    "        # 사용자에게 정보전달\n",
    "        meteor_shower_string += f\"{meteor_shower}를 관측하려면 {constellation}자리 위치를 향해서 {best_moon_date.to_pydatetime().strftime('%Y년 %m월 %d일')}에 볼 수 있습니다.\\n\"\n",
    "\n",
    "\n",
    "\n",
    "    return meteor_shower_string"
   ]
  },
  {
   "cell_type": "code",
   "execution_count": 325,
   "metadata": {},
   "outputs": [
    {
     "name": "stdout",
     "output_type": "stream",
     "text": [
      "입력하신New York에서는 유성우 관측이 불가합니다.\n"
     ]
    }
   ],
   "source": [
    "print(predict_best_meteor_shower_viewing('New York'))"
   ]
  },
  {
   "cell_type": "code",
   "execution_count": 326,
   "metadata": {},
   "outputs": [
    {
     "name": "stdout",
     "output_type": "stream",
     "text": [
      "Wellington에서는 유성우 관측이 가능합니다.\n",
      "Eta Aquarids를 관측하려면 Aquarius자리 위치를 향해서 2020년 10월 16일에 볼 수 있습니다.\n",
      "Orionids를 관측하려면 Orion자리 위치를 향해서 2020년 10월 16일에 볼 수 있습니다.\n",
      "\n"
     ]
    }
   ],
   "source": [
    "print(predict_best_meteor_shower_viewing('Wellington'))"
   ]
  },
  {
   "cell_type": "code",
   "execution_count": 327,
   "metadata": {},
   "outputs": [
    {
     "name": "stdout",
     "output_type": "stream",
     "text": [
      "Seoul에서는 유성우 관측이 가능합니다.\n",
      "Lyrids를 관측하려면 Lyra자리 위치를 향해서 2020년 10월 16일에 볼 수 있습니다.\n",
      "Eta Aquarids를 관측하려면 Aquarius자리 위치를 향해서 2020년 10월 16일에 볼 수 있습니다.\n",
      "Orionids를 관측하려면 Orion자리 위치를 향해서 2020년 10월 16일에 볼 수 있습니다.\n",
      "Perseids를 관측하려면 Perseus자리 위치를 향해서 2020년 10월 16일에 볼 수 있습니다.\n",
      "\n"
     ]
    }
   ],
   "source": [
    "print(predict_best_meteor_shower_viewing('Seoul'))"
   ]
  },
  {
   "cell_type": "markdown",
   "metadata": {},
   "source": [
    "# 항아 유성우 데이터 추가"
   ]
  },
  {
   "cell_type": "code",
   "execution_count": 60,
   "metadata": {},
   "outputs": [
    {
     "data": {
      "text/html": [
       "<div>\n",
       "<style scoped>\n",
       "    .dataframe tbody tr th:only-of-type {\n",
       "        vertical-align: middle;\n",
       "    }\n",
       "\n",
       "    .dataframe tbody tr th {\n",
       "        vertical-align: top;\n",
       "    }\n",
       "\n",
       "    .dataframe thead th {\n",
       "        text-align: right;\n",
       "    }\n",
       "</style>\n",
       "<table border=\"1\" class=\"dataframe\">\n",
       "  <thead>\n",
       "    <tr style=\"text-align: right;\">\n",
       "      <th></th>\n",
       "      <th>name</th>\n",
       "      <th>radiant</th>\n",
       "      <th>bestmonth</th>\n",
       "      <th>startmonth</th>\n",
       "      <th>startday</th>\n",
       "      <th>endmonth</th>\n",
       "      <th>endday</th>\n",
       "      <th>hemisphere</th>\n",
       "      <th>preferredhemisphere</th>\n",
       "    </tr>\n",
       "  </thead>\n",
       "  <tbody>\n",
       "    <tr>\n",
       "      <th>0</th>\n",
       "      <td>Chang'e</td>\n",
       "      <td>Draco</td>\n",
       "      <td>october</td>\n",
       "      <td>october</td>\n",
       "      <td>1</td>\n",
       "      <td>october</td>\n",
       "      <td>31</td>\n",
       "      <td>northern</td>\n",
       "      <td>northern</td>\n",
       "    </tr>\n",
       "  </tbody>\n",
       "</table>\n",
       "</div>"
      ],
      "text/plain": [
       "      name radiant bestmonth startmonth  startday endmonth  endday hemisphere  \\\n",
       "0  Chang'e   Draco   october    october         1  october      31   northern   \n",
       "\n",
       "  preferredhemisphere  \n",
       "0            northern  "
      ]
     },
     "execution_count": 60,
     "metadata": {},
     "output_type": "execute_result"
    }
   ],
   "source": [
    "# 항아 유성우 데이터 추가하기\n",
    "change_meteor_shower = {'name' : \"Chang\\'e\", 'radiant' : 'Draco', 'bestmonth' : 'october', 'startmonth': 'october', 'startday' : 1,\n",
    "                        'endmonth' : 'october', 'endday' : 31, 'hemisphere' : 'northern', 'preferredhemisphere' : 'northern' }\n",
    "change_meteor_shower_df = pd.DataFrame(change_meteor_shower,index = [0])\n",
    "change_meteor_shower_df"
   ]
  },
  {
   "cell_type": "code",
   "execution_count": 61,
   "metadata": {},
   "outputs": [
    {
     "data": {
      "text/html": [
       "<div>\n",
       "<style scoped>\n",
       "    .dataframe tbody tr th:only-of-type {\n",
       "        vertical-align: middle;\n",
       "    }\n",
       "\n",
       "    .dataframe tbody tr th {\n",
       "        vertical-align: top;\n",
       "    }\n",
       "\n",
       "    .dataframe thead th {\n",
       "        text-align: right;\n",
       "    }\n",
       "</style>\n",
       "<table border=\"1\" class=\"dataframe\">\n",
       "  <thead>\n",
       "    <tr style=\"text-align: right;\">\n",
       "      <th></th>\n",
       "      <th>name</th>\n",
       "      <th>radiant</th>\n",
       "      <th>bestmonth</th>\n",
       "      <th>startmonth</th>\n",
       "      <th>startday</th>\n",
       "      <th>endmonth</th>\n",
       "      <th>endday</th>\n",
       "      <th>hemisphere</th>\n",
       "      <th>preferredhemisphere</th>\n",
       "    </tr>\n",
       "  </thead>\n",
       "  <tbody>\n",
       "    <tr>\n",
       "      <th>0</th>\n",
       "      <td>Lyrids</td>\n",
       "      <td>Lyra</td>\n",
       "      <td>april</td>\n",
       "      <td>april</td>\n",
       "      <td>21</td>\n",
       "      <td>april</td>\n",
       "      <td>22</td>\n",
       "      <td>northern</td>\n",
       "      <td>northern</td>\n",
       "    </tr>\n",
       "    <tr>\n",
       "      <th>1</th>\n",
       "      <td>Eta Aquarids</td>\n",
       "      <td>Aquarius</td>\n",
       "      <td>may</td>\n",
       "      <td>april</td>\n",
       "      <td>19</td>\n",
       "      <td>may</td>\n",
       "      <td>28</td>\n",
       "      <td>northern, southern</td>\n",
       "      <td>southern</td>\n",
       "    </tr>\n",
       "    <tr>\n",
       "      <th>2</th>\n",
       "      <td>Orionids</td>\n",
       "      <td>Orion</td>\n",
       "      <td>october</td>\n",
       "      <td>october</td>\n",
       "      <td>2</td>\n",
       "      <td>november</td>\n",
       "      <td>7</td>\n",
       "      <td>northern, southern</td>\n",
       "      <td>northern, southern</td>\n",
       "    </tr>\n",
       "    <tr>\n",
       "      <th>3</th>\n",
       "      <td>Perseids</td>\n",
       "      <td>Perseus</td>\n",
       "      <td>august</td>\n",
       "      <td>july</td>\n",
       "      <td>14</td>\n",
       "      <td>august</td>\n",
       "      <td>24</td>\n",
       "      <td>northern</td>\n",
       "      <td>northern</td>\n",
       "    </tr>\n",
       "    <tr>\n",
       "      <th>4</th>\n",
       "      <td>Leonids</td>\n",
       "      <td>Leo</td>\n",
       "      <td>november</td>\n",
       "      <td>november</td>\n",
       "      <td>6</td>\n",
       "      <td>november</td>\n",
       "      <td>30</td>\n",
       "      <td>northern, southern</td>\n",
       "      <td>northern, southern</td>\n",
       "    </tr>\n",
       "  </tbody>\n",
       "</table>\n",
       "</div>"
      ],
      "text/plain": [
       "           name   radiant bestmonth startmonth  startday  endmonth  endday  \\\n",
       "0        Lyrids      Lyra     april      april        21     april      22   \n",
       "1  Eta Aquarids  Aquarius       may      april        19       may      28   \n",
       "2      Orionids     Orion   october    october         2  november       7   \n",
       "3      Perseids   Perseus    august       july        14    august      24   \n",
       "4       Leonids       Leo  november   november         6  november      30   \n",
       "\n",
       "           hemisphere preferredhemisphere  \n",
       "0            northern            northern  \n",
       "1  northern, southern            southern  \n",
       "2  northern, southern  northern, southern  \n",
       "3            northern            northern  \n",
       "4  northern, southern  northern, southern  "
      ]
     },
     "execution_count": 61,
     "metadata": {},
     "output_type": "execute_result"
    }
   ],
   "source": [
    "# meteorshowers.csv 파일 읽어와서 new_meteor_showers 변수에 저장\n",
    "new_meteor_showers = pd.read_csv('meteorshowers.csv')\n",
    "new_meteor_showers"
   ]
  },
  {
   "cell_type": "code",
   "execution_count": null,
   "metadata": {},
   "outputs": [
    {
     "data": {
      "text/html": [
       "<div>\n",
       "<style scoped>\n",
       "    .dataframe tbody tr th:only-of-type {\n",
       "        vertical-align: middle;\n",
       "    }\n",
       "\n",
       "    .dataframe tbody tr th {\n",
       "        vertical-align: top;\n",
       "    }\n",
       "\n",
       "    .dataframe thead th {\n",
       "        text-align: right;\n",
       "    }\n",
       "</style>\n",
       "<table border=\"1\" class=\"dataframe\">\n",
       "  <thead>\n",
       "    <tr style=\"text-align: right;\">\n",
       "      <th></th>\n",
       "      <th>name</th>\n",
       "      <th>radiant</th>\n",
       "      <th>bestmonth</th>\n",
       "      <th>startmonth</th>\n",
       "      <th>startday</th>\n",
       "      <th>endmonth</th>\n",
       "      <th>endday</th>\n",
       "      <th>hemisphere</th>\n",
       "      <th>preferredhemisphere</th>\n",
       "    </tr>\n",
       "  </thead>\n",
       "  <tbody>\n",
       "    <tr>\n",
       "      <th>0</th>\n",
       "      <td>Lyrids</td>\n",
       "      <td>Lyra</td>\n",
       "      <td>april</td>\n",
       "      <td>april</td>\n",
       "      <td>21</td>\n",
       "      <td>april</td>\n",
       "      <td>22</td>\n",
       "      <td>northern</td>\n",
       "      <td>northern</td>\n",
       "    </tr>\n",
       "    <tr>\n",
       "      <th>1</th>\n",
       "      <td>Eta Aquarids</td>\n",
       "      <td>Aquarius</td>\n",
       "      <td>may</td>\n",
       "      <td>april</td>\n",
       "      <td>19</td>\n",
       "      <td>may</td>\n",
       "      <td>28</td>\n",
       "      <td>northern, southern</td>\n",
       "      <td>southern</td>\n",
       "    </tr>\n",
       "    <tr>\n",
       "      <th>2</th>\n",
       "      <td>Orionids</td>\n",
       "      <td>Orion</td>\n",
       "      <td>october</td>\n",
       "      <td>october</td>\n",
       "      <td>2</td>\n",
       "      <td>november</td>\n",
       "      <td>7</td>\n",
       "      <td>northern, southern</td>\n",
       "      <td>northern, southern</td>\n",
       "    </tr>\n",
       "    <tr>\n",
       "      <th>3</th>\n",
       "      <td>Perseids</td>\n",
       "      <td>Perseus</td>\n",
       "      <td>august</td>\n",
       "      <td>july</td>\n",
       "      <td>14</td>\n",
       "      <td>august</td>\n",
       "      <td>24</td>\n",
       "      <td>northern</td>\n",
       "      <td>northern</td>\n",
       "    </tr>\n",
       "    <tr>\n",
       "      <th>4</th>\n",
       "      <td>Leonids</td>\n",
       "      <td>Leo</td>\n",
       "      <td>november</td>\n",
       "      <td>november</td>\n",
       "      <td>6</td>\n",
       "      <td>november</td>\n",
       "      <td>30</td>\n",
       "      <td>northern, southern</td>\n",
       "      <td>northern, southern</td>\n",
       "    </tr>\n",
       "    <tr>\n",
       "      <th>5</th>\n",
       "      <td>Chang'e</td>\n",
       "      <td>Draco</td>\n",
       "      <td>october</td>\n",
       "      <td>october</td>\n",
       "      <td>1</td>\n",
       "      <td>october</td>\n",
       "      <td>31</td>\n",
       "      <td>northern</td>\n",
       "      <td>northern</td>\n",
       "    </tr>\n",
       "  </tbody>\n",
       "</table>\n",
       "</div>"
      ],
      "text/plain": [
       "           name   radiant bestmonth startmonth  startday  endmonth  endday  \\\n",
       "0        Lyrids      Lyra     april      april        21     april      22   \n",
       "1  Eta Aquarids  Aquarius       may      april        19       may      28   \n",
       "2      Orionids     Orion   october    october         2  november       7   \n",
       "3      Perseids   Perseus    august       july        14    august      24   \n",
       "4       Leonids       Leo  november   november         6  november      30   \n",
       "5       Chang'e     Draco   october    october         1   october      31   \n",
       "\n",
       "           hemisphere preferredhemisphere  \n",
       "0            northern            northern  \n",
       "1  northern, southern            southern  \n",
       "2  northern, southern  northern, southern  \n",
       "3            northern            northern  \n",
       "4  northern, southern  northern, southern  \n",
       "5            northern            northern  "
      ]
     },
     "execution_count": 62,
     "metadata": {},
     "output_type": "execute_result"
    }
   ],
   "source": [
    "# new_meteor_showers 데이터프레임에 change_meteor_shower_df 데이터프레임 추가하기 concat\n",
    "new_meteor_showers = # TODO\n",
    "new_meteor_showers"
   ]
  },
  {
   "cell_type": "code",
   "execution_count": 63,
   "metadata": {},
   "outputs": [
    {
     "data": {
      "text/html": [
       "<div>\n",
       "<style scoped>\n",
       "    .dataframe tbody tr th:only-of-type {\n",
       "        vertical-align: middle;\n",
       "    }\n",
       "\n",
       "    .dataframe tbody tr th {\n",
       "        vertical-align: top;\n",
       "    }\n",
       "\n",
       "    .dataframe thead th {\n",
       "        text-align: right;\n",
       "    }\n",
       "</style>\n",
       "<table border=\"1\" class=\"dataframe\">\n",
       "  <thead>\n",
       "    <tr style=\"text-align: right;\">\n",
       "      <th></th>\n",
       "      <th>constellation</th>\n",
       "      <th>bestmonth</th>\n",
       "      <th>latitudestart</th>\n",
       "      <th>latitudeend</th>\n",
       "      <th>besttime</th>\n",
       "      <th>hemisphere</th>\n",
       "    </tr>\n",
       "  </thead>\n",
       "  <tbody>\n",
       "    <tr>\n",
       "      <th>0</th>\n",
       "      <td>Draco</td>\n",
       "      <td>july</td>\n",
       "      <td>90</td>\n",
       "      <td>-15</td>\n",
       "      <td>2100</td>\n",
       "      <td>northern</td>\n",
       "    </tr>\n",
       "  </tbody>\n",
       "</table>\n",
       "</div>"
      ],
      "text/plain": [
       "  constellation bestmonth  latitudestart  latitudeend  besttime hemisphere\n",
       "0         Draco      july             90          -15      2100   northern"
      ]
     },
     "execution_count": 63,
     "metadata": {},
     "output_type": "execute_result"
    }
   ],
   "source": [
    "# Chang'e 유성우에 대해 Draconids 유성우가 10월 초에 발생할 가능성이 높은 용자리를 선택합니다. 이 유성우를 가상 유성우의 참조로 사용\n",
    "# 용자리 항목 추가하기기\n",
    "draco_constellation = {'constellation' : 'Draco', 'bestmonth' : 'july', 'latitudestart' : 90, 'latitudeend' : -15, 'besttime' :2100, 'hemisphere' : 'northern'}\n",
    "draco_constellation_df = pd.DataFrame(draco_constellation, index = [0])\n",
    "draco_constellation_df"
   ]
  },
  {
   "cell_type": "code",
   "execution_count": 64,
   "metadata": {},
   "outputs": [
    {
     "data": {
      "text/html": [
       "<div>\n",
       "<style scoped>\n",
       "    .dataframe tbody tr th:only-of-type {\n",
       "        vertical-align: middle;\n",
       "    }\n",
       "\n",
       "    .dataframe tbody tr th {\n",
       "        vertical-align: top;\n",
       "    }\n",
       "\n",
       "    .dataframe thead th {\n",
       "        text-align: right;\n",
       "    }\n",
       "</style>\n",
       "<table border=\"1\" class=\"dataframe\">\n",
       "  <thead>\n",
       "    <tr style=\"text-align: right;\">\n",
       "      <th></th>\n",
       "      <th>constellation</th>\n",
       "      <th>bestmonth</th>\n",
       "      <th>latitudestart</th>\n",
       "      <th>latitudeend</th>\n",
       "      <th>besttime</th>\n",
       "      <th>hemisphere</th>\n",
       "    </tr>\n",
       "  </thead>\n",
       "  <tbody>\n",
       "    <tr>\n",
       "      <th>0</th>\n",
       "      <td>Lyra</td>\n",
       "      <td>august</td>\n",
       "      <td>90</td>\n",
       "      <td>-40</td>\n",
       "      <td>21:00</td>\n",
       "      <td>northern</td>\n",
       "    </tr>\n",
       "    <tr>\n",
       "      <th>1</th>\n",
       "      <td>Aquarius</td>\n",
       "      <td>october</td>\n",
       "      <td>65</td>\n",
       "      <td>-90</td>\n",
       "      <td>21:00</td>\n",
       "      <td>southern</td>\n",
       "    </tr>\n",
       "    <tr>\n",
       "      <th>2</th>\n",
       "      <td>Orion</td>\n",
       "      <td>january</td>\n",
       "      <td>85</td>\n",
       "      <td>-75</td>\n",
       "      <td>21:00</td>\n",
       "      <td>northern</td>\n",
       "    </tr>\n",
       "    <tr>\n",
       "      <th>3</th>\n",
       "      <td>Perseus</td>\n",
       "      <td>december</td>\n",
       "      <td>90</td>\n",
       "      <td>-35</td>\n",
       "      <td>21:00</td>\n",
       "      <td>northern</td>\n",
       "    </tr>\n",
       "    <tr>\n",
       "      <th>4</th>\n",
       "      <td>Leo</td>\n",
       "      <td>april</td>\n",
       "      <td>90</td>\n",
       "      <td>65</td>\n",
       "      <td>21:00</td>\n",
       "      <td>northern</td>\n",
       "    </tr>\n",
       "  </tbody>\n",
       "</table>\n",
       "</div>"
      ],
      "text/plain": [
       "  constellation bestmonth  latitudestart  latitudeend besttime hemisphere\n",
       "0          Lyra    august             90          -40    21:00   northern\n",
       "1      Aquarius   october             65          -90    21:00   southern\n",
       "2         Orion   january             85          -75    21:00   northern\n",
       "3       Perseus  december             90          -35    21:00   northern\n",
       "4           Leo     april             90           65    21:00   northern"
      ]
     },
     "execution_count": 64,
     "metadata": {},
     "output_type": "execute_result"
    }
   ],
   "source": [
    "# 별자리 파일 읽어와서 new_constellations에 저장하기\n",
    "new_constellations = pd.read_csv('constellations.csv')\n",
    "new_constellations"
   ]
  },
  {
   "cell_type": "code",
   "execution_count": null,
   "metadata": {},
   "outputs": [
    {
     "data": {
      "text/html": [
       "<div>\n",
       "<style scoped>\n",
       "    .dataframe tbody tr th:only-of-type {\n",
       "        vertical-align: middle;\n",
       "    }\n",
       "\n",
       "    .dataframe tbody tr th {\n",
       "        vertical-align: top;\n",
       "    }\n",
       "\n",
       "    .dataframe thead th {\n",
       "        text-align: right;\n",
       "    }\n",
       "</style>\n",
       "<table border=\"1\" class=\"dataframe\">\n",
       "  <thead>\n",
       "    <tr style=\"text-align: right;\">\n",
       "      <th></th>\n",
       "      <th>constellation</th>\n",
       "      <th>bestmonth</th>\n",
       "      <th>latitudestart</th>\n",
       "      <th>latitudeend</th>\n",
       "      <th>besttime</th>\n",
       "      <th>hemisphere</th>\n",
       "    </tr>\n",
       "  </thead>\n",
       "  <tbody>\n",
       "    <tr>\n",
       "      <th>0</th>\n",
       "      <td>Lyra</td>\n",
       "      <td>august</td>\n",
       "      <td>90</td>\n",
       "      <td>-40</td>\n",
       "      <td>21:00</td>\n",
       "      <td>northern</td>\n",
       "    </tr>\n",
       "    <tr>\n",
       "      <th>1</th>\n",
       "      <td>Aquarius</td>\n",
       "      <td>october</td>\n",
       "      <td>65</td>\n",
       "      <td>-90</td>\n",
       "      <td>21:00</td>\n",
       "      <td>southern</td>\n",
       "    </tr>\n",
       "    <tr>\n",
       "      <th>2</th>\n",
       "      <td>Orion</td>\n",
       "      <td>january</td>\n",
       "      <td>85</td>\n",
       "      <td>-75</td>\n",
       "      <td>21:00</td>\n",
       "      <td>northern</td>\n",
       "    </tr>\n",
       "    <tr>\n",
       "      <th>3</th>\n",
       "      <td>Perseus</td>\n",
       "      <td>december</td>\n",
       "      <td>90</td>\n",
       "      <td>-35</td>\n",
       "      <td>21:00</td>\n",
       "      <td>northern</td>\n",
       "    </tr>\n",
       "    <tr>\n",
       "      <th>4</th>\n",
       "      <td>Leo</td>\n",
       "      <td>april</td>\n",
       "      <td>90</td>\n",
       "      <td>65</td>\n",
       "      <td>21:00</td>\n",
       "      <td>northern</td>\n",
       "    </tr>\n",
       "    <tr>\n",
       "      <th>5</th>\n",
       "      <td>Draco</td>\n",
       "      <td>july</td>\n",
       "      <td>90</td>\n",
       "      <td>-15</td>\n",
       "      <td>2100</td>\n",
       "      <td>northern</td>\n",
       "    </tr>\n",
       "  </tbody>\n",
       "</table>\n",
       "</div>"
      ],
      "text/plain": [
       "  constellation bestmonth  latitudestart  latitudeend besttime hemisphere\n",
       "0          Lyra    august             90          -40    21:00   northern\n",
       "1      Aquarius   october             65          -90    21:00   southern\n",
       "2         Orion   january             85          -75    21:00   northern\n",
       "3       Perseus  december             90          -35    21:00   northern\n",
       "4           Leo     april             90           65    21:00   northern\n",
       "5         Draco      july             90          -15     2100   northern"
      ]
     },
     "execution_count": 122,
     "metadata": {},
     "output_type": "execute_result"
    }
   ],
   "source": [
    "# new_constellations 데이터프레임에 draco_constellation_df 추가하기 concat\n",
    "new_constellations =  # TODO\n",
    "new_constellations"
   ]
  },
  {
   "cell_type": "code",
   "execution_count": 123,
   "metadata": {},
   "outputs": [
    {
     "data": {
      "text/html": [
       "<div>\n",
       "<style scoped>\n",
       "    .dataframe tbody tr th:only-of-type {\n",
       "        vertical-align: middle;\n",
       "    }\n",
       "\n",
       "    .dataframe tbody tr th {\n",
       "        vertical-align: top;\n",
       "    }\n",
       "\n",
       "    .dataframe thead th {\n",
       "        text-align: right;\n",
       "    }\n",
       "</style>\n",
       "<table border=\"1\" class=\"dataframe\">\n",
       "  <thead>\n",
       "    <tr style=\"text-align: right;\">\n",
       "      <th></th>\n",
       "      <th>name</th>\n",
       "      <th>radiant</th>\n",
       "      <th>bestmonth</th>\n",
       "      <th>startmonth</th>\n",
       "      <th>startday</th>\n",
       "      <th>endmonth</th>\n",
       "      <th>endday</th>\n",
       "      <th>hemisphere</th>\n",
       "      <th>preferredhemisphere</th>\n",
       "    </tr>\n",
       "  </thead>\n",
       "  <tbody>\n",
       "    <tr>\n",
       "      <th>0</th>\n",
       "      <td>Lyrids</td>\n",
       "      <td>Lyra</td>\n",
       "      <td>4</td>\n",
       "      <td>4</td>\n",
       "      <td>21</td>\n",
       "      <td>4</td>\n",
       "      <td>22</td>\n",
       "      <td>northern</td>\n",
       "      <td>northern</td>\n",
       "    </tr>\n",
       "    <tr>\n",
       "      <th>1</th>\n",
       "      <td>Eta Aquarids</td>\n",
       "      <td>Aquarius</td>\n",
       "      <td>5</td>\n",
       "      <td>4</td>\n",
       "      <td>19</td>\n",
       "      <td>5</td>\n",
       "      <td>28</td>\n",
       "      <td>northern, southern</td>\n",
       "      <td>southern</td>\n",
       "    </tr>\n",
       "    <tr>\n",
       "      <th>2</th>\n",
       "      <td>Orionids</td>\n",
       "      <td>Orion</td>\n",
       "      <td>10</td>\n",
       "      <td>10</td>\n",
       "      <td>2</td>\n",
       "      <td>11</td>\n",
       "      <td>7</td>\n",
       "      <td>northern, southern</td>\n",
       "      <td>northern, southern</td>\n",
       "    </tr>\n",
       "    <tr>\n",
       "      <th>3</th>\n",
       "      <td>Perseids</td>\n",
       "      <td>Perseus</td>\n",
       "      <td>8</td>\n",
       "      <td>7</td>\n",
       "      <td>14</td>\n",
       "      <td>8</td>\n",
       "      <td>24</td>\n",
       "      <td>northern</td>\n",
       "      <td>northern</td>\n",
       "    </tr>\n",
       "    <tr>\n",
       "      <th>4</th>\n",
       "      <td>Leonids</td>\n",
       "      <td>Leo</td>\n",
       "      <td>11</td>\n",
       "      <td>11</td>\n",
       "      <td>6</td>\n",
       "      <td>11</td>\n",
       "      <td>30</td>\n",
       "      <td>northern, southern</td>\n",
       "      <td>northern, southern</td>\n",
       "    </tr>\n",
       "    <tr>\n",
       "      <th>5</th>\n",
       "      <td>Chang'e</td>\n",
       "      <td>Draco</td>\n",
       "      <td>10</td>\n",
       "      <td>10</td>\n",
       "      <td>1</td>\n",
       "      <td>10</td>\n",
       "      <td>31</td>\n",
       "      <td>northern</td>\n",
       "      <td>northern</td>\n",
       "    </tr>\n",
       "  </tbody>\n",
       "</table>\n",
       "</div>"
      ],
      "text/plain": [
       "           name   radiant  bestmonth  startmonth  startday  endmonth  endday  \\\n",
       "0        Lyrids      Lyra          4           4        21         4      22   \n",
       "1  Eta Aquarids  Aquarius          5           4        19         5      28   \n",
       "2      Orionids     Orion         10          10         2        11       7   \n",
       "3      Perseids   Perseus          8           7        14         8      24   \n",
       "4       Leonids       Leo         11          11         6        11      30   \n",
       "5       Chang'e     Draco         10          10         1        10      31   \n",
       "\n",
       "           hemisphere preferredhemisphere  \n",
       "0            northern            northern  \n",
       "1  northern, southern            southern  \n",
       "2  northern, southern  northern, southern  \n",
       "3            northern            northern  \n",
       "4  northern, southern  northern, southern  \n",
       "5            northern            northern  "
      ]
     },
     "execution_count": 123,
     "metadata": {},
     "output_type": "execute_result"
    }
   ],
   "source": [
    "# new_meteor_showers 데이터프레임 월명 매핑\n"
   ]
  },
  {
   "cell_type": "code",
   "execution_count": 124,
   "metadata": {},
   "outputs": [
    {
     "data": {
      "text/html": [
       "<div>\n",
       "<style scoped>\n",
       "    .dataframe tbody tr th:only-of-type {\n",
       "        vertical-align: middle;\n",
       "    }\n",
       "\n",
       "    .dataframe tbody tr th {\n",
       "        vertical-align: top;\n",
       "    }\n",
       "\n",
       "    .dataframe thead th {\n",
       "        text-align: right;\n",
       "    }\n",
       "</style>\n",
       "<table border=\"1\" class=\"dataframe\">\n",
       "  <thead>\n",
       "    <tr style=\"text-align: right;\">\n",
       "      <th></th>\n",
       "      <th>constellation</th>\n",
       "      <th>bestmonth</th>\n",
       "      <th>latitudestart</th>\n",
       "      <th>latitudeend</th>\n",
       "      <th>besttime</th>\n",
       "      <th>hemisphere</th>\n",
       "    </tr>\n",
       "  </thead>\n",
       "  <tbody>\n",
       "    <tr>\n",
       "      <th>0</th>\n",
       "      <td>Lyra</td>\n",
       "      <td>8</td>\n",
       "      <td>90</td>\n",
       "      <td>-40</td>\n",
       "      <td>21:00</td>\n",
       "      <td>northern</td>\n",
       "    </tr>\n",
       "    <tr>\n",
       "      <th>1</th>\n",
       "      <td>Aquarius</td>\n",
       "      <td>10</td>\n",
       "      <td>65</td>\n",
       "      <td>-90</td>\n",
       "      <td>21:00</td>\n",
       "      <td>southern</td>\n",
       "    </tr>\n",
       "    <tr>\n",
       "      <th>2</th>\n",
       "      <td>Orion</td>\n",
       "      <td>1</td>\n",
       "      <td>85</td>\n",
       "      <td>-75</td>\n",
       "      <td>21:00</td>\n",
       "      <td>northern</td>\n",
       "    </tr>\n",
       "    <tr>\n",
       "      <th>3</th>\n",
       "      <td>Perseus</td>\n",
       "      <td>12</td>\n",
       "      <td>90</td>\n",
       "      <td>-35</td>\n",
       "      <td>21:00</td>\n",
       "      <td>northern</td>\n",
       "    </tr>\n",
       "    <tr>\n",
       "      <th>4</th>\n",
       "      <td>Leo</td>\n",
       "      <td>4</td>\n",
       "      <td>90</td>\n",
       "      <td>65</td>\n",
       "      <td>21:00</td>\n",
       "      <td>northern</td>\n",
       "    </tr>\n",
       "    <tr>\n",
       "      <th>5</th>\n",
       "      <td>Draco</td>\n",
       "      <td>7</td>\n",
       "      <td>90</td>\n",
       "      <td>-15</td>\n",
       "      <td>2100</td>\n",
       "      <td>northern</td>\n",
       "    </tr>\n",
       "  </tbody>\n",
       "</table>\n",
       "</div>"
      ],
      "text/plain": [
       "  constellation  bestmonth  latitudestart  latitudeend besttime hemisphere\n",
       "0          Lyra          8             90          -40    21:00   northern\n",
       "1      Aquarius         10             65          -90    21:00   southern\n",
       "2         Orion          1             85          -75    21:00   northern\n",
       "3       Perseus         12             90          -35    21:00   northern\n",
       "4           Leo          4             90           65    21:00   northern\n",
       "5         Draco          7             90          -15     2100   northern"
      ]
     },
     "execution_count": 124,
     "metadata": {},
     "output_type": "execute_result"
    }
   ],
   "source": [
    "# new_constellations 데이터프레임 월명 매핑\n",
    "\n",
    "new_constellations"
   ]
  },
  {
   "cell_type": "code",
   "execution_count": 125,
   "metadata": {},
   "outputs": [
    {
     "data": {
      "text/html": [
       "<div>\n",
       "<style scoped>\n",
       "    .dataframe tbody tr th:only-of-type {\n",
       "        vertical-align: middle;\n",
       "    }\n",
       "\n",
       "    .dataframe tbody tr th {\n",
       "        vertical-align: top;\n",
       "    }\n",
       "\n",
       "    .dataframe thead th {\n",
       "        text-align: right;\n",
       "    }\n",
       "</style>\n",
       "<table border=\"1\" class=\"dataframe\">\n",
       "  <thead>\n",
       "    <tr style=\"text-align: right;\">\n",
       "      <th></th>\n",
       "      <th>name</th>\n",
       "      <th>radiant</th>\n",
       "      <th>bestmonth</th>\n",
       "      <th>startmonth</th>\n",
       "      <th>startday</th>\n",
       "      <th>endmonth</th>\n",
       "      <th>endday</th>\n",
       "      <th>hemisphere</th>\n",
       "      <th>preferredhemisphere</th>\n",
       "      <th>startdate</th>\n",
       "      <th>enddate</th>\n",
       "    </tr>\n",
       "  </thead>\n",
       "  <tbody>\n",
       "    <tr>\n",
       "      <th>0</th>\n",
       "      <td>Lyrids</td>\n",
       "      <td>Lyra</td>\n",
       "      <td>4</td>\n",
       "      <td>4</td>\n",
       "      <td>21</td>\n",
       "      <td>4</td>\n",
       "      <td>22</td>\n",
       "      <td>northern</td>\n",
       "      <td>northern</td>\n",
       "      <td>2020-04-21</td>\n",
       "      <td>2020-04-22</td>\n",
       "    </tr>\n",
       "    <tr>\n",
       "      <th>1</th>\n",
       "      <td>Eta Aquarids</td>\n",
       "      <td>Aquarius</td>\n",
       "      <td>5</td>\n",
       "      <td>4</td>\n",
       "      <td>19</td>\n",
       "      <td>5</td>\n",
       "      <td>28</td>\n",
       "      <td>northern, southern</td>\n",
       "      <td>southern</td>\n",
       "      <td>2020-04-19</td>\n",
       "      <td>2020-05-28</td>\n",
       "    </tr>\n",
       "    <tr>\n",
       "      <th>2</th>\n",
       "      <td>Orionids</td>\n",
       "      <td>Orion</td>\n",
       "      <td>10</td>\n",
       "      <td>10</td>\n",
       "      <td>2</td>\n",
       "      <td>11</td>\n",
       "      <td>7</td>\n",
       "      <td>northern, southern</td>\n",
       "      <td>northern, southern</td>\n",
       "      <td>2020-10-02</td>\n",
       "      <td>2020-11-07</td>\n",
       "    </tr>\n",
       "    <tr>\n",
       "      <th>3</th>\n",
       "      <td>Perseids</td>\n",
       "      <td>Perseus</td>\n",
       "      <td>8</td>\n",
       "      <td>7</td>\n",
       "      <td>14</td>\n",
       "      <td>8</td>\n",
       "      <td>24</td>\n",
       "      <td>northern</td>\n",
       "      <td>northern</td>\n",
       "      <td>2020-07-14</td>\n",
       "      <td>2020-08-24</td>\n",
       "    </tr>\n",
       "    <tr>\n",
       "      <th>4</th>\n",
       "      <td>Leonids</td>\n",
       "      <td>Leo</td>\n",
       "      <td>11</td>\n",
       "      <td>11</td>\n",
       "      <td>6</td>\n",
       "      <td>11</td>\n",
       "      <td>30</td>\n",
       "      <td>northern, southern</td>\n",
       "      <td>northern, southern</td>\n",
       "      <td>2020-11-06</td>\n",
       "      <td>2020-11-30</td>\n",
       "    </tr>\n",
       "    <tr>\n",
       "      <th>5</th>\n",
       "      <td>Chang'e</td>\n",
       "      <td>Draco</td>\n",
       "      <td>10</td>\n",
       "      <td>10</td>\n",
       "      <td>1</td>\n",
       "      <td>10</td>\n",
       "      <td>31</td>\n",
       "      <td>northern</td>\n",
       "      <td>northern</td>\n",
       "      <td>2020-10-01</td>\n",
       "      <td>2020-10-31</td>\n",
       "    </tr>\n",
       "  </tbody>\n",
       "</table>\n",
       "</div>"
      ],
      "text/plain": [
       "           name   radiant  bestmonth  startmonth  startday  endmonth  endday  \\\n",
       "0        Lyrids      Lyra          4           4        21         4      22   \n",
       "1  Eta Aquarids  Aquarius          5           4        19         5      28   \n",
       "2      Orionids     Orion         10          10         2        11       7   \n",
       "3      Perseids   Perseus          8           7        14         8      24   \n",
       "4       Leonids       Leo         11          11         6        11      30   \n",
       "5       Chang'e     Draco         10          10         1        10      31   \n",
       "\n",
       "           hemisphere preferredhemisphere  startdate    enddate  \n",
       "0            northern            northern 2020-04-21 2020-04-22  \n",
       "1  northern, southern            southern 2020-04-19 2020-05-28  \n",
       "2  northern, southern  northern, southern 2020-10-02 2020-11-07  \n",
       "3            northern            northern 2020-07-14 2020-08-24  \n",
       "4  northern, southern  northern, southern 2020-11-06 2020-11-30  \n",
       "5            northern            northern 2020-10-01 2020-10-31  "
      ]
     },
     "execution_count": 125,
     "metadata": {},
     "output_type": "execute_result"
    }
   ],
   "source": [
    "# new_meteor_showers 날짜형식 바꿔서 새로운 컬럼으로 추가 startdate, enddate\n",
    "\n",
    "\n",
    "new_meteor_showers"
   ]
  },
  {
   "cell_type": "code",
   "execution_count": 126,
   "metadata": {},
   "outputs": [],
   "source": [
    "# 도시명을 입력히면 별자리 정보를 알려주는 함수 완성하기\n",
    "def predict_best_meteor_shower_viewing(city):\n",
    "    \n",
    "\n",
    "\n",
    "    return meteor_shower_string"
   ]
  },
  {
   "cell_type": "code",
   "execution_count": 127,
   "metadata": {},
   "outputs": [
    {
     "name": "stdout",
     "output_type": "stream",
     "text": [
      "Beijing에서는 별자리 관측이 가능합니다: \n",
      "\n",
      "Lyrids를 잘 보려면 Lyra자리 위치를 향하여 April 22, 2020보면 됩니다.\n",
      "Eta Aquarids를 잘 보려면 Aquarius자리 위치를 향하여 April 22, 2020보면 됩니다.\n",
      "Orionids를 잘 보려면 Orion자리 위치를 향하여 October 16, 2020보면 됩니다.\n",
      "Perseids를 잘 보려면 Perseus자리 위치를 향하여 July 20, 2020보면 됩니다.\n",
      "Chang'e를 잘 보려면 Draco자리 위치를 향하여 October 16, 2020보면 됩니다.\n",
      "\n"
     ]
    }
   ],
   "source": [
    "print(predict_best_meteor_shower_viewing('Beijing'))"
   ]
  }
 ],
 "metadata": {
  "kernelspec": {
   "display_name": "Python 3",
   "language": "python",
   "name": "python3"
  },
  "language_info": {
   "codemirror_mode": {
    "name": "ipython",
    "version": 3
   },
   "file_extension": ".py",
   "mimetype": "text/x-python",
   "name": "python",
   "nbconvert_exporter": "python",
   "pygments_lexer": "ipython3",
   "version": "3.11.4"
  }
 },
 "nbformat": 4,
 "nbformat_minor": 2
}
