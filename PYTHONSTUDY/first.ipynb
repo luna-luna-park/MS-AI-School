{
 "cells": [
  {
   "cell_type": "markdown",
   "id": "9afbca3d",
   "metadata": {},
   "source": [
    "## 2025-04-10"
   ]
  },
  {
   "cell_type": "markdown",
   "id": "13d21448",
   "metadata": {},
   "source": [
    "### 파이썬 기본 문법"
   ]
  },
  {
   "cell_type": "markdown",
   "id": "274b4675",
   "metadata": {},
   "source": [
    "#### 시작하기"
   ]
  },
  {
   "cell_type": "code",
   "execution_count": 3,
   "id": "74f78c79",
   "metadata": {},
   "outputs": [
    {
     "name": "stdout",
     "output_type": "stream",
     "text": [
      "Hello Python\n"
     ]
    }
   ],
   "source": [
    "print('Hello Python')"
   ]
  },
  {
   "cell_type": "code",
   "execution_count": null,
   "id": "91e83160",
   "metadata": {},
   "outputs": [],
   "source": [
    "Hello Python\n",
    "안녕 파이썬"
   ]
  },
  {
   "cell_type": "code",
   "execution_count": 5,
   "id": "01e4d998",
   "metadata": {},
   "outputs": [
    {
     "name": "stdout",
     "output_type": "stream",
     "text": [
      "Hello Python\n",
      "안녕 파이썬\n"
     ]
    }
   ],
   "source": [
    "print('Hello Python')\n",
    "print('안녕 파이썬')"
   ]
  },
  {
   "cell_type": "code",
   "execution_count": 7,
   "id": "0fb7eb23",
   "metadata": {},
   "outputs": [
    {
     "data": {
      "text/plain": [
       "'Hello Python'"
      ]
     },
     "execution_count": 7,
     "metadata": {},
     "output_type": "execute_result"
    }
   ],
   "source": [
    "'Hello Python'"
   ]
  },
  {
   "cell_type": "code",
   "execution_count": 8,
   "id": "d704eb2d",
   "metadata": {},
   "outputs": [
    {
     "data": {
      "text/plain": [
       "'안녕 파이썬'"
      ]
     },
     "execution_count": 8,
     "metadata": {},
     "output_type": "execute_result"
    }
   ],
   "source": [
    "'Hello Python'\n",
    "'안녕 파이썬'"
   ]
  },
  {
   "cell_type": "code",
   "execution_count": 14,
   "id": "2327d140",
   "metadata": {},
   "outputs": [
    {
     "ename": "NameError",
     "evalue": "name 'Hello' is not defined",
     "output_type": "error",
     "traceback": [
      "\u001b[1;31m---------------------------------------------------------------------------\u001b[0m",
      "\u001b[1;31mNameError\u001b[0m                                 Traceback (most recent call last)",
      "Cell \u001b[1;32mIn[14], line 1\u001b[0m\n\u001b[1;32m----> 1\u001b[0m \u001b[43mHello\u001b[49m\n",
      "\u001b[1;31mNameError\u001b[0m: name 'Hello' is not defined"
     ]
    }
   ],
   "source": [
    "Hello"
   ]
  },
  {
   "cell_type": "code",
   "execution_count": 15,
   "id": "54cc9424",
   "metadata": {},
   "outputs": [
    {
     "data": {
      "text/plain": [
       "10"
      ]
     },
     "execution_count": 15,
     "metadata": {},
     "output_type": "execute_result"
    }
   ],
   "source": [
    "10"
   ]
  },
  {
   "cell_type": "code",
   "execution_count": 11,
   "id": "0c97957e",
   "metadata": {},
   "outputs": [
    {
     "name": "stdout",
     "output_type": "stream",
     "text": [
      "20\n"
     ]
    }
   ],
   "source": [
    "print(10 + 10)"
   ]
  },
  {
   "cell_type": "code",
   "execution_count": 12,
   "id": "c2ced07a",
   "metadata": {},
   "outputs": [
    {
     "name": "stdout",
     "output_type": "stream",
     "text": [
      "10\n"
     ]
    }
   ],
   "source": [
    "print('10')"
   ]
  },
  {
   "cell_type": "code",
   "execution_count": 13,
   "id": "a29e636a",
   "metadata": {},
   "outputs": [
    {
     "name": "stdout",
     "output_type": "stream",
     "text": [
      "10 + 10\n"
     ]
    }
   ],
   "source": [
    "print('10 + 10')"
   ]
  },
  {
   "cell_type": "code",
   "execution_count": 16,
   "id": "201c8cdb",
   "metadata": {},
   "outputs": [
    {
     "data": {
      "text/plain": [
       "str"
      ]
     },
     "execution_count": 16,
     "metadata": {},
     "output_type": "execute_result"
    }
   ],
   "source": [
    "type('Hello Python')"
   ]
  },
  {
   "cell_type": "code",
   "execution_count": 17,
   "id": "4f50e662",
   "metadata": {},
   "outputs": [
    {
     "data": {
      "text/plain": [
       "str"
      ]
     },
     "execution_count": 17,
     "metadata": {},
     "output_type": "execute_result"
    }
   ],
   "source": [
    "type('100')"
   ]
  },
  {
   "cell_type": "code",
   "execution_count": 18,
   "id": "fb751c07",
   "metadata": {},
   "outputs": [
    {
     "data": {
      "text/plain": [
       "int"
      ]
     },
     "execution_count": 18,
     "metadata": {},
     "output_type": "execute_result"
    }
   ],
   "source": [
    "type(10)"
   ]
  },
  {
   "cell_type": "code",
   "execution_count": 19,
   "id": "b0f42c8d",
   "metadata": {},
   "outputs": [
    {
     "data": {
      "text/plain": [
       "float"
      ]
     },
     "execution_count": 19,
     "metadata": {},
     "output_type": "execute_result"
    }
   ],
   "source": [
    "type(3.14)"
   ]
  },
  {
   "cell_type": "code",
   "execution_count": 20,
   "id": "e3690401",
   "metadata": {},
   "outputs": [
    {
     "data": {
      "text/plain": [
       "bool"
      ]
     },
     "execution_count": 20,
     "metadata": {},
     "output_type": "execute_result"
    }
   ],
   "source": [
    "type(True)"
   ]
  },
  {
   "cell_type": "markdown",
   "id": "3436ae35",
   "metadata": {},
   "source": [
    "#### 변수"
   ]
  },
  {
   "cell_type": "code",
   "execution_count": 21,
   "id": "755e15e3",
   "metadata": {},
   "outputs": [],
   "source": [
    "mynumber = 10"
   ]
  },
  {
   "cell_type": "code",
   "execution_count": 23,
   "id": "35d1375c",
   "metadata": {},
   "outputs": [
    {
     "data": {
      "text/plain": [
       "10"
      ]
     },
     "execution_count": 23,
     "metadata": {},
     "output_type": "execute_result"
    }
   ],
   "source": [
    "mynumber"
   ]
  },
  {
   "cell_type": "code",
   "execution_count": 24,
   "id": "9c73fcfa",
   "metadata": {},
   "outputs": [
    {
     "data": {
      "text/plain": [
       "int"
      ]
     },
     "execution_count": 24,
     "metadata": {},
     "output_type": "execute_result"
    }
   ],
   "source": [
    "type(mynumber)"
   ]
  },
  {
   "cell_type": "markdown",
   "id": "96104825",
   "metadata": {},
   "source": [
    "#### 산술연산자"
   ]
  },
  {
   "cell_type": "code",
   "execution_count": 26,
   "id": "2b58e416",
   "metadata": {},
   "outputs": [],
   "source": [
    "num1 = 3\n",
    "num2 = 4"
   ]
  },
  {
   "cell_type": "code",
   "execution_count": null,
   "id": "bd3a2728",
   "metadata": {},
   "outputs": [
    {
     "name": "stdout",
     "output_type": "stream",
     "text": [
      "7\n",
      "-1\n",
      "12\n",
      "0.75\n"
     ]
    }
   ],
   "source": [
    "# 합, 차, 곱, 나눗셈의 결과를 출력해주세요\n",
    "print(num1+num2)\n",
    "print(num1-num2)\n",
    "print(num1*num2)\n",
    "print(num1/num2)"
   ]
  },
  {
   "cell_type": "code",
   "execution_count": 28,
   "id": "8af353cd",
   "metadata": {},
   "outputs": [
    {
     "name": "stdout",
     "output_type": "stream",
     "text": [
      "3\n",
      "0\n",
      "81\n"
     ]
    }
   ],
   "source": [
    "print(num1%num2)\n",
    "print(num1//num2)\n",
    "print(num1**num2)"
   ]
  },
  {
   "cell_type": "markdown",
   "id": "3ed2f7c0",
   "metadata": {},
   "source": [
    "#### 비교연산자"
   ]
  },
  {
   "cell_type": "code",
   "execution_count": 29,
   "id": "afad05ef",
   "metadata": {},
   "outputs": [
    {
     "name": "stdout",
     "output_type": "stream",
     "text": [
      "False\n"
     ]
    }
   ],
   "source": [
    "print(5 == 2)"
   ]
  },
  {
   "cell_type": "code",
   "execution_count": 30,
   "id": "1a6e2e11",
   "metadata": {},
   "outputs": [
    {
     "name": "stdout",
     "output_type": "stream",
     "text": [
      "True\n"
     ]
    }
   ],
   "source": [
    "print(5 != 2)"
   ]
  },
  {
   "cell_type": "code",
   "execution_count": 31,
   "id": "c53da9b0",
   "metadata": {},
   "outputs": [
    {
     "name": "stdout",
     "output_type": "stream",
     "text": [
      "False\n"
     ]
    }
   ],
   "source": [
    "print(5 < 2)"
   ]
  },
  {
   "cell_type": "markdown",
   "id": "0086f059",
   "metadata": {},
   "source": [
    "#### 논리연산자"
   ]
  },
  {
   "cell_type": "code",
   "execution_count": 32,
   "id": "de6410ba",
   "metadata": {},
   "outputs": [
    {
     "name": "stdout",
     "output_type": "stream",
     "text": [
      "True\n"
     ]
    }
   ],
   "source": [
    "print(3<5)"
   ]
  },
  {
   "cell_type": "code",
   "execution_count": 33,
   "id": "4d4df430",
   "metadata": {},
   "outputs": [
    {
     "name": "stdout",
     "output_type": "stream",
     "text": [
      "True\n"
     ]
    }
   ],
   "source": [
    "print(3>0)"
   ]
  },
  {
   "cell_type": "code",
   "execution_count": 34,
   "id": "3e42372c",
   "metadata": {},
   "outputs": [
    {
     "data": {
      "text/plain": [
       "True"
      ]
     },
     "execution_count": 34,
     "metadata": {},
     "output_type": "execute_result"
    }
   ],
   "source": [
    "(3<5) and (3>0)"
   ]
  },
  {
   "cell_type": "code",
   "execution_count": null,
   "id": "6096a8ed",
   "metadata": {},
   "outputs": [],
   "source": [
    "(4 < 7) or ( 5 > 8)"
   ]
  },
  {
   "cell_type": "code",
   "execution_count": 35,
   "id": "08f44ba0",
   "metadata": {},
   "outputs": [],
   "source": [
    "mynumber = 10"
   ]
  },
  {
   "cell_type": "code",
   "execution_count": 37,
   "id": "6c0ae179",
   "metadata": {},
   "outputs": [
    {
     "data": {
      "text/plain": [
       "11"
      ]
     },
     "execution_count": 37,
     "metadata": {},
     "output_type": "execute_result"
    }
   ],
   "source": [
    "mynumber = mynumber + 1\n",
    "mynumber"
   ]
  },
  {
   "cell_type": "code",
   "execution_count": 38,
   "id": "d835dd0c",
   "metadata": {},
   "outputs": [
    {
     "data": {
      "text/plain": [
       "12"
      ]
     },
     "execution_count": 38,
     "metadata": {},
     "output_type": "execute_result"
    }
   ],
   "source": [
    "mynumber += 1\n",
    "mynumber"
   ]
  },
  {
   "cell_type": "code",
   "execution_count": 41,
   "id": "60b99e95",
   "metadata": {},
   "outputs": [
    {
     "data": {
      "text/plain": [
       "13"
      ]
     },
     "execution_count": 41,
     "metadata": {},
     "output_type": "execute_result"
    }
   ],
   "source": [
    "mynumber -= 1\n",
    "mynumber"
   ]
  },
  {
   "cell_type": "code",
   "execution_count": 42,
   "id": "d860205b",
   "metadata": {},
   "outputs": [
    {
     "data": {
      "text/plain": [
       "12"
      ]
     },
     "execution_count": 42,
     "metadata": {},
     "output_type": "execute_result"
    }
   ],
   "source": [
    "mynumber -= 1\n",
    "mynumber"
   ]
  },
  {
   "cell_type": "markdown",
   "id": "e67b100d",
   "metadata": {},
   "source": [
    "#### 문자열 "
   ]
  },
  {
   "cell_type": "code",
   "execution_count": 43,
   "id": "d2e59d2a",
   "metadata": {},
   "outputs": [
    {
     "data": {
      "text/plain": [
       "'Hello'"
      ]
     },
     "execution_count": 43,
     "metadata": {},
     "output_type": "execute_result"
    }
   ],
   "source": [
    "\"Hello\""
   ]
  },
  {
   "cell_type": "code",
   "execution_count": 44,
   "id": "84a3933f",
   "metadata": {},
   "outputs": [
    {
     "data": {
      "text/plain": [
       "'Hello'"
      ]
     },
     "execution_count": 44,
     "metadata": {},
     "output_type": "execute_result"
    }
   ],
   "source": [
    "'Hello'"
   ]
  },
  {
   "cell_type": "code",
   "execution_count": 47,
   "id": "13b1324a",
   "metadata": {},
   "outputs": [
    {
     "name": "stdout",
     "output_type": "stream",
     "text": [
      "그녀가 \"고마워\"라고 말했다.\n"
     ]
    }
   ],
   "source": [
    "print('그녀가 \"고마워\"라고 말했다.')"
   ]
  },
  {
   "cell_type": "code",
   "execution_count": 58,
   "id": "9e77833e",
   "metadata": {},
   "outputs": [
    {
     "name": "stdout",
     "output_type": "stream",
     "text": [
      "그가 \"배고파\"라고 생각했다.\n"
     ]
    }
   ],
   "source": [
    "print(\"그가 \\\"배고파\\\"라고 생각했다.\")"
   ]
  },
  {
   "cell_type": "code",
   "execution_count": 57,
   "id": "844d6a9f",
   "metadata": {},
   "outputs": [
    {
     "name": "stdout",
     "output_type": "stream",
     "text": [
      "Life is too short, \n",
      "You need Python\n"
     ]
    }
   ],
   "source": [
    "print(\"\"\"Life is too short, \n",
    "You need Python\"\"\")"
   ]
  },
  {
   "cell_type": "code",
   "execution_count": 55,
   "id": "2342cb4b",
   "metadata": {},
   "outputs": [
    {
     "name": "stdout",
     "output_type": "stream",
     "text": [
      "Life is too short, \n",
      "You need Python\n"
     ]
    }
   ],
   "source": [
    "print('''Life is too short, \n",
    "You need Python''')"
   ]
  },
  {
   "cell_type": "code",
   "execution_count": 51,
   "id": "f551420b",
   "metadata": {},
   "outputs": [],
   "source": [
    "# Life is too short, You need Python"
   ]
  },
  {
   "cell_type": "code",
   "execution_count": 62,
   "id": "40d06be2",
   "metadata": {},
   "outputs": [],
   "source": [
    "a = 'Hello'\n",
    "b = 3"
   ]
  },
  {
   "cell_type": "code",
   "execution_count": 63,
   "id": "1ca30882",
   "metadata": {},
   "outputs": [
    {
     "ename": "TypeError",
     "evalue": "can only concatenate str (not \"int\") to str",
     "output_type": "error",
     "traceback": [
      "\u001b[1;31m---------------------------------------------------------------------------\u001b[0m",
      "\u001b[1;31mTypeError\u001b[0m                                 Traceback (most recent call last)",
      "Cell \u001b[1;32mIn[63], line 1\u001b[0m\n\u001b[1;32m----> 1\u001b[0m \u001b[43ma\u001b[49m\u001b[43m \u001b[49m\u001b[38;5;241;43m+\u001b[39;49m\u001b[43m \u001b[49m\u001b[43mb\u001b[49m\n",
      "\u001b[1;31mTypeError\u001b[0m: can only concatenate str (not \"int\") to str"
     ]
    }
   ],
   "source": [
    "a + b"
   ]
  },
  {
   "cell_type": "code",
   "execution_count": 61,
   "id": "99898b13",
   "metadata": {},
   "outputs": [
    {
     "ename": "TypeError",
     "evalue": "unsupported operand type(s) for -: 'str' and 'str'",
     "output_type": "error",
     "traceback": [
      "\u001b[1;31m---------------------------------------------------------------------------\u001b[0m",
      "\u001b[1;31mTypeError\u001b[0m                                 Traceback (most recent call last)",
      "Cell \u001b[1;32mIn[61], line 1\u001b[0m\n\u001b[1;32m----> 1\u001b[0m \u001b[43ma\u001b[49m\u001b[43m \u001b[49m\u001b[38;5;241;43m-\u001b[39;49m\u001b[43m \u001b[49m\u001b[43mb\u001b[49m\n",
      "\u001b[1;31mTypeError\u001b[0m: unsupported operand type(s) for -: 'str' and 'str'"
     ]
    }
   ],
   "source": [
    "a - b"
   ]
  },
  {
   "cell_type": "code",
   "execution_count": 64,
   "id": "3ebe31c2",
   "metadata": {},
   "outputs": [],
   "source": [
    "a = 'Hello'\n",
    "b = 3"
   ]
  },
  {
   "cell_type": "code",
   "execution_count": 65,
   "id": "5e73a5fd",
   "metadata": {},
   "outputs": [
    {
     "data": {
      "text/plain": [
       "'HelloHelloHello'"
      ]
     },
     "execution_count": 65,
     "metadata": {},
     "output_type": "execute_result"
    }
   ],
   "source": [
    "a * b"
   ]
  },
  {
   "cell_type": "code",
   "execution_count": null,
   "id": "0e5b5c68",
   "metadata": {},
   "outputs": [],
   "source": [
    "------------------------------------------------"
   ]
  },
  {
   "cell_type": "code",
   "execution_count": 66,
   "id": "d6cc7098",
   "metadata": {},
   "outputs": [
    {
     "name": "stdout",
     "output_type": "stream",
     "text": [
      "------------------------------\n"
     ]
    }
   ],
   "source": [
    "print('-'* 30)"
   ]
  },
  {
   "cell_type": "code",
   "execution_count": 67,
   "id": "bf62e715",
   "metadata": {},
   "outputs": [],
   "source": [
    "a = 'Hello'\n",
    "b = '3'"
   ]
  },
  {
   "cell_type": "code",
   "execution_count": 68,
   "id": "1ab9fcc8",
   "metadata": {},
   "outputs": [
    {
     "ename": "TypeError",
     "evalue": "can't multiply sequence by non-int of type 'str'",
     "output_type": "error",
     "traceback": [
      "\u001b[1;31m---------------------------------------------------------------------------\u001b[0m",
      "\u001b[1;31mTypeError\u001b[0m                                 Traceback (most recent call last)",
      "Cell \u001b[1;32mIn[68], line 1\u001b[0m\n\u001b[1;32m----> 1\u001b[0m \u001b[43ma\u001b[49m\u001b[43m \u001b[49m\u001b[38;5;241;43m*\u001b[39;49m\u001b[43m \u001b[49m\u001b[43mb\u001b[49m\n",
      "\u001b[1;31mTypeError\u001b[0m: can't multiply sequence by non-int of type 'str'"
     ]
    }
   ],
   "source": [
    "a * b"
   ]
  },
  {
   "cell_type": "code",
   "execution_count": 70,
   "id": "5d9938c5",
   "metadata": {},
   "outputs": [
    {
     "ename": "IndentationError",
     "evalue": "unexpected indent (3001810403.py, line 2)",
     "output_type": "error",
     "traceback": [
      "\u001b[1;36m  Cell \u001b[1;32mIn[70], line 2\u001b[1;36m\u001b[0m\n\u001b[1;33m    print('홍길동', '나이 = ', 20, \"입니다\")\u001b[0m\n\u001b[1;37m    ^\u001b[0m\n\u001b[1;31mIndentationError\u001b[0m\u001b[1;31m:\u001b[0m unexpected indent\n"
     ]
    }
   ],
   "source": [
    "print('Hello Python')\n",
    " print('홍길동', '나이 = ', 20, \"입니다\")"
   ]
  },
  {
   "cell_type": "code",
   "execution_count": 71,
   "id": "4364f908",
   "metadata": {},
   "outputs": [
    {
     "name": "stdout",
     "output_type": "stream",
     "text": [
      "홍길동 나이 =  20 입니다\n"
     ]
    }
   ],
   "source": [
    " print('홍길동', '나이 = ', 20, \"입니다\")"
   ]
  },
  {
   "cell_type": "code",
   "execution_count": 72,
   "id": "3bf7e0f7",
   "metadata": {},
   "outputs": [
    {
     "data": {
      "text/plain": [
       "'Hello '"
      ]
     },
     "execution_count": 72,
     "metadata": {},
     "output_type": "execute_result"
    }
   ],
   "source": [
    "'Hello '"
   ]
  },
  {
   "cell_type": "code",
   "execution_count": 73,
   "id": "7ed48a9a",
   "metadata": {},
   "outputs": [],
   "source": [
    "mystring = \"Life is too short, You need Python!\""
   ]
  },
  {
   "cell_type": "code",
   "execution_count": 78,
   "id": "d685826d",
   "metadata": {},
   "outputs": [
    {
     "data": {
      "text/plain": [
       "('t', 'o', 'o')"
      ]
     },
     "execution_count": 78,
     "metadata": {},
     "output_type": "execute_result"
    }
   ],
   "source": [
    "mystring[8], mystring[9], mystring[10]"
   ]
  },
  {
   "cell_type": "code",
   "execution_count": 81,
   "id": "40fac529",
   "metadata": {},
   "outputs": [
    {
     "data": {
      "text/plain": [
       "'tosot'"
      ]
     },
     "execution_count": 81,
     "metadata": {},
     "output_type": "execute_result"
    }
   ],
   "source": [
    "mystring[8:18:2]"
   ]
  },
  {
   "cell_type": "code",
   "execution_count": 77,
   "id": "074d3057",
   "metadata": {},
   "outputs": [
    {
     "data": {
      "text/plain": [
       "'P'"
      ]
     },
     "execution_count": 77,
     "metadata": {},
     "output_type": "execute_result"
    }
   ],
   "source": [
    "mystring[-7]"
   ]
  },
  {
   "cell_type": "markdown",
   "id": "cc688a02",
   "metadata": {},
   "source": [
    "#### 사용자입력함수"
   ]
  },
  {
   "cell_type": "code",
   "execution_count": 83,
   "id": "722112bc",
   "metadata": {},
   "outputs": [
    {
     "name": "stdout",
     "output_type": "stream",
     "text": [
      "내가 출력하고 싶은 내용\n"
     ]
    }
   ],
   "source": [
    "print('내가 출력하고 싶은 내용')"
   ]
  },
  {
   "cell_type": "code",
   "execution_count": 88,
   "id": "aa84bf99",
   "metadata": {},
   "outputs": [
    {
     "name": "stdout",
     "output_type": "stream",
     "text": [
      " 님 안녕하세요!\n"
     ]
    }
   ],
   "source": [
    "name = input('이름을 입력하세요: ')\n",
    "print(name, '님 안녕하세요!')"
   ]
  },
  {
   "cell_type": "code",
   "execution_count": null,
   "id": "7a889954",
   "metadata": {},
   "outputs": [],
   "source": [
    "# 사용자로부터 두개의 정수를 입력받아서\n",
    "# 합, 차, 곱, 나눗셈 연산의 결과를 출력하고 싶어요 "
   ]
  },
  {
   "cell_type": "code",
   "execution_count": 91,
   "id": "f882a9f1",
   "metadata": {},
   "outputs": [
    {
     "name": "stdout",
     "output_type": "stream",
     "text": [
      "<class 'str'>\n",
      "<class 'int'>\n"
     ]
    }
   ],
   "source": [
    "num1 = input('첫번째 숫자를 입력하세요: ')\n",
    "print(type(num1))\n",
    "num1 = int(num1)\n",
    "print(type(num1))"
   ]
  },
  {
   "cell_type": "code",
   "execution_count": 92,
   "id": "4070c49c",
   "metadata": {},
   "outputs": [
    {
     "name": "stdout",
     "output_type": "stream",
     "text": [
      "10\n",
      "4\n",
      "21\n",
      "2.3333333333333335\n"
     ]
    }
   ],
   "source": [
    "num1 = int(input('첫번째 숫자를 입력하세요: '))\n",
    "num2 = int(input('두번째 숫자를 입력하세요: '))\n",
    "\n",
    "print(num1+num2)\n",
    "print(num1-num2)\n",
    "print(num1*num2)\n",
    "print(num1/num2)"
   ]
  },
  {
   "cell_type": "code",
   "execution_count": null,
   "id": "4dc3523f",
   "metadata": {},
   "outputs": [],
   "source": []
  },
  {
   "cell_type": "code",
   "execution_count": 97,
   "id": "deeeb569",
   "metadata": {},
   "outputs": [
    {
     "name": "stdout",
     "output_type": "stream",
     "text": [
      "Hello Python Hello Python\n"
     ]
    }
   ],
   "source": [
    "print('Hello Python', end=' ')\n",
    "print('Hello Python')"
   ]
  },
  {
   "cell_type": "code",
   "execution_count": 98,
   "id": "d6f4e069",
   "metadata": {},
   "outputs": [
    {
     "name": "stdout",
     "output_type": "stream",
     "text": [
      "Hello Python::Nice to meet you\n"
     ]
    }
   ],
   "source": [
    "print('Hello Python', 'Nice to meet you', sep='::')"
   ]
  },
  {
   "cell_type": "code",
   "execution_count": null,
   "id": "cd68ae3a",
   "metadata": {},
   "outputs": [],
   "source": []
  },
  {
   "cell_type": "markdown",
   "id": "88ca9eef",
   "metadata": {},
   "source": [
    "#### 조건문"
   ]
  },
  {
   "cell_type": "code",
   "execution_count": null,
   "id": "d87f9206",
   "metadata": {},
   "outputs": [],
   "source": [
    "if 조건:\n",
    "    수행할문장"
   ]
  },
  {
   "cell_type": "code",
   "execution_count": null,
   "id": "317cda9f",
   "metadata": {},
   "outputs": [
    {
     "ename": "IndentationError",
     "evalue": "expected an indented block after 'if' statement on line 3 (3913617826.py, line 4)",
     "output_type": "error",
     "traceback": [
      "\u001b[1;36m  Cell \u001b[1;32mIn[105], line 4\u001b[1;36m\u001b[0m\n\u001b[1;33m    print('택시타고 귀가')\u001b[0m\n\u001b[1;37m    ^\u001b[0m\n\u001b[1;31mIndentationError\u001b[0m\u001b[1;31m:\u001b[0m expected an indented block after 'if' statement on line 3\n"
     ]
    }
   ],
   "source": [
    "money = False\n",
    "\n",
    "if money:\n",
    "    print('택시타고 귀가')\n",
    "    print('밥도 먹고 ')\n",
    "\n",
    "print('if문 종료')"
   ]
  },
  {
   "cell_type": "code",
   "execution_count": 111,
   "id": "7685bde5",
   "metadata": {},
   "outputs": [
    {
     "name": "stdout",
     "output_type": "stream",
     "text": [
      "짝수\n"
     ]
    }
   ],
   "source": [
    "# 입력된 수가 홀수이면 '홀수입니다'를 출력하는 프로그램을 만들어주세요. \n",
    "# 짝수일때는 아무것도 출력 안됨 \n",
    "# if문, 산술연산자(%)\n",
    "\n",
    "num = int(input('숫자를 입력하세요: '))\n",
    "\n",
    "if num%2:\n",
    "    print('홀수')\n",
    "else:\n",
    "    print('짝수')"
   ]
  },
  {
   "cell_type": "code",
   "execution_count": 106,
   "id": "148eb142",
   "metadata": {},
   "outputs": [
    {
     "data": {
      "text/plain": [
       "1"
      ]
     },
     "execution_count": 106,
     "metadata": {},
     "output_type": "execute_result"
    }
   ],
   "source": [
    "num = 3\n",
    "num%2"
   ]
  },
  {
   "cell_type": "code",
   "execution_count": 107,
   "id": "1a3146b6",
   "metadata": {},
   "outputs": [
    {
     "data": {
      "text/plain": [
       "True"
      ]
     },
     "execution_count": 107,
     "metadata": {},
     "output_type": "execute_result"
    }
   ],
   "source": [
    "bool(num%2)"
   ]
  },
  {
   "cell_type": "code",
   "execution_count": 114,
   "id": "bea32be2",
   "metadata": {},
   "outputs": [
    {
     "name": "stdout",
     "output_type": "stream",
     "text": [
      "3으로 나누었을때 1이 남아 \n"
     ]
    }
   ],
   "source": [
    "num = 4 # 나누어 떨어지는지.... 1이 남는지.... 2가 남는지... \n",
    "\n",
    "if num%3 == 0:\n",
    "    print('3으로 나누어 떨어져  ')\n",
    "elif num%3 == 1:\n",
    "    print('3으로 나누었을때 1이 남아 ')\n",
    "else:\n",
    "    print('3으로 나누었을때 2가 남아 ')"
   ]
  },
  {
   "cell_type": "code",
   "execution_count": 115,
   "id": "5e20e34d",
   "metadata": {},
   "outputs": [
    {
     "name": "stdout",
     "output_type": "stream",
     "text": [
      "3으로 나누었을때 1이 남아 \n"
     ]
    }
   ],
   "source": [
    "if num%3 == 0:\n",
    "    print('3으로 나누어 떨어져  ')\n",
    "if num%3 == 1:\n",
    "    print('3으로 나누었을때 1이 남아 ')\n",
    "if num%3 == 2:\n",
    "    print('3으로 나누었을때 2가 남아 ')"
   ]
  },
  {
   "cell_type": "markdown",
   "id": "cfed60ed",
   "metadata": {},
   "source": [
    "#### 반복문"
   ]
  },
  {
   "cell_type": "code",
   "execution_count": null,
   "id": "c4b43c25",
   "metadata": {},
   "outputs": [],
   "source": [
    "while 조건:\n",
    "    print('참이야~ ')"
   ]
  },
  {
   "cell_type": "code",
   "execution_count": 117,
   "id": "06858487",
   "metadata": {},
   "outputs": [
    {
     "name": "stdout",
     "output_type": "stream",
     "text": [
      "1 참이야~ \n",
      "2 참이야~ \n",
      "3 참이야~ \n",
      "4 참이야~ \n",
      "5 참이야~ \n"
     ]
    }
   ],
   "source": [
    "i = 1\n",
    "while i <= 5:\n",
    "    print(i, '참이야~ ')\n",
    "    i = i+1"
   ]
  },
  {
   "cell_type": "code",
   "execution_count": null,
   "id": "e94fbb4d",
   "metadata": {},
   "outputs": [
    {
     "name": "stdout",
     "output_type": "stream",
     "text": [
      "1 3 5 7 9 11 13 15 17 19 21 23 25 27 29 31 33 35 37 39 41 43 45 47 49 51 53 55 57 59 61 63 65 67 69 71 73 75 77 79 81 83 85 87 89 91 93 95 97 99 "
     ]
    }
   ],
   "source": [
    "# 1부터 99까지 홀수값만 출력 \n",
    "i = 1\n",
    "while i <= 99:\n",
    "    if i%2:\n",
    "        print(i, end=\" \")\n",
    "    i += 1"
   ]
  },
  {
   "cell_type": "code",
   "execution_count": 120,
   "id": "22b83100",
   "metadata": {},
   "outputs": [],
   "source": [
    "prompt = \"\"\"\n",
    "1. Add\n",
    "2. Del\n",
    "3. List \n",
    "4. Quit\n",
    "\n",
    "Enter number: \"\"\""
   ]
  },
  {
   "cell_type": "code",
   "execution_count": 121,
   "id": "1f7f3125",
   "metadata": {},
   "outputs": [
    {
     "name": "stdout",
     "output_type": "stream",
     "text": [
      "\n",
      "1. Add\n",
      "2. Del\n",
      "3. List \n",
      "4. Quit\n",
      "\n",
      "Enter number: \n",
      "\n",
      "1. Add\n",
      "2. Del\n",
      "3. List \n",
      "4. Quit\n",
      "\n",
      "Enter number: \n",
      "\n",
      "1. Add\n",
      "2. Del\n",
      "3. List \n",
      "4. Quit\n",
      "\n",
      "Enter number: \n"
     ]
    }
   ],
   "source": [
    "number = 0\n",
    "\n",
    "while number !=4:\n",
    "    print(prompt)\n",
    "    number = int(input('원하는 메뉴의 번호를 입력하세요: '))"
   ]
  },
  {
   "cell_type": "code",
   "execution_count": null,
   "id": "e3d4e29e",
   "metadata": {},
   "outputs": [],
   "source": []
  },
  {
   "cell_type": "code",
   "execution_count": null,
   "id": "ea059b0c",
   "metadata": {},
   "outputs": [
    {
     "name": "stdout",
     "output_type": "stream",
     "text": [
      "500500\n"
     ]
    }
   ],
   "source": [
    "n = 1000\n",
    "\n",
    "# 1\n",
    "# 1 + 2\n",
    "# 1 + 2 + 3\n",
    "\n",
    "i = 1\n",
    "hap = 0\n",
    "gob = 1\n",
    "\n",
    "while i <= n:\n",
    "    #print(i, '참이야~ ')\n",
    "    hap = hap + i\n",
    "    #print(i, hap)\n",
    "    #gob *=i\n",
    "    i = i+1\n",
    "\n",
    "print(hap)\n",
    "print(gob)"
   ]
  },
  {
   "cell_type": "code",
   "execution_count": null,
   "id": "f99cbc63",
   "metadata": {},
   "outputs": [],
   "source": []
  },
  {
   "cell_type": "code",
   "execution_count": null,
   "id": "1d60f64d",
   "metadata": {},
   "outputs": [],
   "source": []
  }
 ],
 "metadata": {
  "kernelspec": {
   "display_name": "Python 3",
   "language": "python",
   "name": "python3"
  },
  "language_info": {
   "codemirror_mode": {
    "name": "ipython",
    "version": 3
   },
   "file_extension": ".py",
   "mimetype": "text/x-python",
   "name": "python",
   "nbconvert_exporter": "python",
   "pygments_lexer": "ipython3",
   "version": "3.11.9"
  }
 },
 "nbformat": 4,
 "nbformat_minor": 5
}
